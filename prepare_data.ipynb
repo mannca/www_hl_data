{
 "cells": [
  {
   "cell_type": "code",
   "execution_count": 1,
   "metadata": {},
   "outputs": [],
   "source": [
    "import pandas as pd\n",
    "import pycountry\n",
    "import re"
   ]
  },
  {
   "cell_type": "code",
   "execution_count": 2,
   "metadata": {},
   "outputs": [],
   "source": [
    "df_actual = pd.read_csv(\"hl_data/actual_removed_duplicated_uncodable.csv\")"
   ]
  },
  {
   "cell_type": "code",
   "execution_count": 3,
   "metadata": {},
   "outputs": [],
   "source": [
    "df_actual['source'] = \"manual\""
   ]
  },
  {
   "cell_type": "code",
   "execution_count": 4,
   "metadata": {},
   "outputs": [
    {
     "name": "stderr",
     "output_type": "stream",
     "text": [
      "<ipython-input-4-9607b572149f>:2: SettingWithCopyWarning: \n",
      "A value is trying to be set on a copy of a slice from a DataFrame\n",
      "\n",
      "See the caveats in the documentation: https://pandas.pydata.org/pandas-docs/stable/user_guide/indexing.html#returning-a-view-versus-a-copy\n",
      "  df_actual.code[df_actual[\"identifier\"]==301929] = \"SAFEABORTION\"\n"
     ]
    }
   ],
   "source": [
    "# Manual override\n",
    "df_actual.code[df_actual[\"identifier\"]==301929] = \"SAFEABORTION\""
   ]
  },
  {
   "cell_type": "code",
   "execution_count": 5,
   "metadata": {},
   "outputs": [],
   "source": [
    "df_modelled = pd.read_csv(\"hl_data/automated_coding_from_greg.csv\")\n",
    "df_modelled['source'] = \"greg\""
   ]
  },
  {
   "cell_type": "markdown",
   "metadata": {},
   "source": [
    "## Include the UNCODABLE data that was recoded with Sklearn"
   ]
  },
  {
   "cell_type": "code",
   "execution_count": 6,
   "metadata": {},
   "outputs": [],
   "source": [
    "df_recoded = pd.read_csv(\"hl_data/02_sklearn_recoded_uncodable.csv\")"
   ]
  },
  {
   "cell_type": "code",
   "execution_count": 7,
   "metadata": {},
   "outputs": [],
   "source": [
    "# We only want to auto recode where relatively high confidence\n",
    "df_recoded = df_recoded[df_recoded.prediction_confidence > 0.3]"
   ]
  },
  {
   "cell_type": "code",
   "execution_count": 8,
   "metadata": {},
   "outputs": [
    {
     "data": {
      "text/plain": [
       "49097"
      ]
     },
     "execution_count": 8,
     "metadata": {},
     "output_type": "execute_result"
    }
   ],
   "source": [
    "len(df_recoded)"
   ]
  },
  {
   "cell_type": "code",
   "execution_count": 9,
   "metadata": {},
   "outputs": [],
   "source": [
    "df_recoded[\"code\"] = df_recoded[\"prediction\"]\n",
    "df_recoded[\"source\"] = \"tw_sklearn\"\n",
    "df_recoded.drop([\"prediction\", \"prediction_confidence\"], axis=1, inplace=True)"
   ]
  },
  {
   "cell_type": "code",
   "execution_count": 10,
   "metadata": {},
   "outputs": [],
   "source": [
    "df_actual = df_actual[~df_actual.identifier.isin(set(df_recoded.identifier))]"
   ]
  },
  {
   "cell_type": "code",
   "execution_count": 89,
   "metadata": {},
   "outputs": [],
   "source": [
    "df_all = pd.concat([df_actual, df_modelled, df_recoded])"
   ]
  },
  {
   "cell_type": "markdown",
   "metadata": {},
   "source": [
    "# Delete responses that are just typos"
   ]
  },
  {
   "cell_type": "code",
   "execution_count": 90,
   "metadata": {},
   "outputs": [],
   "source": [
    "to_delete = [\"ayala\", \"chika emma\", \"odulio\", \"nabisalo\", \"masarira\", \"efgyk\", \"kendro\", \"martyr\", \"fmysojh\", \"^blank$\"]\n",
    "to_delete_regex = re.compile(r'(?i)' + \"|\".join(to_delete))"
   ]
  },
  {
   "cell_type": "code",
   "execution_count": 91,
   "metadata": {},
   "outputs": [],
   "source": [
    "df_all = df_all[df_all.raw_response.apply(str).apply(lambda s : not to_delete_regex.search(s))]"
   ]
  },
  {
   "cell_type": "markdown",
   "metadata": {},
   "source": [
    "# Recode PRIVACY"
   ]
  },
  {
   "cell_type": "markdown",
   "metadata": {},
   "source": [
    "Privacy and RESPECTFULCARE & BETTERFACILITIES\n",
    "\n",
    "Kristy wants it so that if it is ONLY ‘privacy’, it goes into RESPECTFULCARE. But, if it is something related to both privacy and the facility, it should be double coded (so, if it has to do with curtains, your own bed, or the search terms below) it should be double coded in both RESPECTFULCARE and BETTERFACILITIES.\n",
    "\n",
    "Based on our codebook, these terms should be doublecoded now in both RESPECTFULCARE and BETTERFACILITIES:\n",
    "\n",
    "“I want my own bed”\n",
    "\n",
    "“I don’t want to share beds”\n",
    "\n",
    "“I want my own room”\n",
    "\n",
    "“I want a curtain”\n",
    "\n",
    "But, if it is just a single word (privacy) it should JUST go into RESPECTFULCARE."
   ]
  },
  {
   "cell_type": "code",
   "execution_count": 92,
   "metadata": {},
   "outputs": [],
   "source": [
    "df_all.code[(df_all.code==\"PRIVACY\") & (df_all.raw_response.apply(str).str.match(\"(?i).*(bed|room|curtain|ward).*\"))] = \"LABOR/BETTERFACILITIES\""
   ]
  },
  {
   "cell_type": "markdown",
   "metadata": {},
   "source": [
    "## Include the UNCODABLES that were recoded manually"
   ]
  },
  {
   "cell_type": "code",
   "execution_count": 15,
   "metadata": {},
   "outputs": [],
   "source": [
    "import os"
   ]
  },
  {
   "cell_type": "code",
   "execution_count": 93,
   "metadata": {},
   "outputs": [
    {
     "data": {
      "text/plain": [
       "25011"
      ]
     },
     "execution_count": 93,
     "metadata": {},
     "output_type": "execute_result"
    }
   ],
   "source": [
    "len(df_all[df_all.code==\"UNCODABLE\"])"
   ]
  },
  {
   "cell_type": "code",
   "execution_count": 94,
   "metadata": {},
   "outputs": [
    {
     "name": "stderr",
     "output_type": "stream",
     "text": [
      "<ipython-input-94-76fac9f5a239>:12: SettingWithCopyWarning: \n",
      "A value is trying to be set on a copy of a slice from a DataFrame\n",
      "\n",
      "See the caveats in the documentation: https://pandas.pydata.org/pandas-docs/stable/user_guide/indexing.html#returning-a-view-versus-a-copy\n",
      "  df_all.code[df_all.identifier == identifier] = df.code.iloc[idx]\n"
     ]
    }
   ],
   "source": [
    "for root, _, files in os.walk(\"hl_data/UNCODABLES Handcoded/\"):\n",
    "    for f in files:\n",
    "        if f.endswith(\"xlsx\"):\n",
    "            df = pd.read_excel(os.path.join(root, f))\n",
    "            for idx in range(len(df)):\n",
    "                identifier = df.identifier.iloc[idx]\n",
    "                raw_response_in_excel = df.raw_response.iloc[idx]\n",
    "                \n",
    "                raw_response_origs = list(df_all.raw_response[df_all.identifier == identifier])\n",
    "                \n",
    "                if len(raw_response_origs) > 0 and raw_response_in_excel == raw_response_origs[0]:\n",
    "                    df_all.code[df_all.identifier == identifier] = df.code.iloc[idx]"
   ]
  },
  {
   "cell_type": "code",
   "execution_count": 95,
   "metadata": {},
   "outputs": [
    {
     "data": {
      "text/plain": [
       "238"
      ]
     },
     "execution_count": 95,
     "metadata": {},
     "output_type": "execute_result"
    }
   ],
   "source": [
    "len(df_all[df_all.code==\"UNCODABLE\"])"
   ]
  },
  {
   "cell_type": "markdown",
   "metadata": {},
   "source": [
    "# Recode according to March corrections spreadsheet"
   ]
  },
  {
   "cell_type": "markdown",
   "metadata": {},
   "source": [
    "Received from Diana 8 Mar 2021"
   ]
  },
  {
   "cell_type": "code",
   "execution_count": 96,
   "metadata": {},
   "outputs": [],
   "source": [
    "def normalise_text_for_corrections(text):\n",
    "    return re.sub(r'\\s+', ' ', str(text).lower().strip()) # sometimes the corrections Excel has newlines"
   ]
  },
  {
   "cell_type": "code",
   "execution_count": 97,
   "metadata": {},
   "outputs": [],
   "source": [
    "cleaned_raw_response_for_matching_to_excel = df_all.raw_response.apply(normalise_text_for_corrections)"
   ]
  },
  {
   "cell_type": "code",
   "execution_count": 98,
   "metadata": {},
   "outputs": [
    {
     "name": "stdout",
     "output_type": "stream",
     "text": [
      "doing corrections from sheet Correction Sheet\n",
      "No rows corrected 89\n",
      "\t Disability Info, Services, Supplies / Timely and attentive care\n",
      "No rows corrected 122\n",
      "\t Campaigns To Maternal Health And Reproductive Health Isolated Corners\n",
      "No rows corrected 148\n",
      "\t \"increased health personnel\n",
      "increased material and medical tools\n",
      "campaigns sexual and reproductive information\"\n",
      "No rows corrected 217\n",
      "\t Campaigns To Maternal Health And Reproductive Health Isolated Corners\n",
      "No rows corrected 243\n",
      "\t increased health personnel, increased material and medical tools, campaigns sexual and reproductive information\n",
      "No rows corrected 347\n",
      "\t Improvement of work efficiency \n",
      "No rows corrected 437\n",
      "\t  Bring us pants to our school (Kaliene Secondary School) \n",
      "No rows corrected 694\n",
      "\t 1. Hospital required in Village, 2. Staff at the hospital/PHC/Anganwadi should be sensitive\n",
      "doing corrections from sheet Special Cases\n"
     ]
    }
   ],
   "source": [
    "for sheet_name in ['Correction Sheet', 'Special Cases']:\n",
    "    print (\"doing corrections from sheet\", sheet_name)\n",
    "    df_corrections = pd.read_excel (r'hl_data/COMPILATIONS.xlsx', sheet_name=sheet_name)\n",
    "    for idx in range(2, len(df_corrections)):\n",
    "        correction_text = df_corrections[\"Dashboard Survey Response\"].iloc[idx]\n",
    "        rows_to_correct_indices = df_all.raw_response == correction_text\n",
    "        if sum(rows_to_correct_indices) == 0 and len(correction_text) > 80:\n",
    "            # sometimes the correction text in the spreadsheet is the truncated version of the full text\n",
    "            # in this case, if nothing was found by \"exact match\", try via \"starts with\"\n",
    "            rows_to_correct_indices = cleaned_raw_response_for_matching_to_excel.str.startswith(normalise_text_for_corrections(correction_text))\n",
    "\n",
    "        if sum(rows_to_correct_indices) == 0:\n",
    "            print (\"No rows corrected\", idx)\n",
    "            print (\"\\t\", correction_text)\n",
    "\n",
    "\n",
    "        if sum(rows_to_correct_indices) > 0:\n",
    "            final_code = df_corrections[\"actual/final code\"].iloc[idx]\n",
    "            if not pd.isna(df_corrections[\"secondary/double code (if needed)\"].iloc[idx]):\n",
    "                final_code += \"/\" + df_corrections[\"secondary/double code (if needed)\"].iloc[idx]\n",
    "            if not pd.isna(df_corrections[\"triple code (if needed)\"].iloc[idx]):\n",
    "                final_code += \"/\" + df_corrections[\"triple code (if needed)\"].iloc[idx]\n",
    "\n",
    "            df_all.loc[rows_to_correct_indices, \"code\"] = final_code"
   ]
  },
  {
   "cell_type": "markdown",
   "metadata": {},
   "source": [
    "# Replace common misspellings"
   ]
  },
  {
   "cell_type": "code",
   "execution_count": 99,
   "metadata": {},
   "outputs": [],
   "source": [
    "df_all.replace({r'(?i)\\bsavage\\b': 'sewage', # savage system but not \"savagery\" - different word\n",
    "                r'(?i)\\bquark':'quack'}, regex=True, inplace=True)"
   ]
  },
  {
   "cell_type": "markdown",
   "metadata": {},
   "source": [
    "## Rename Codes"
   ]
  },
  {
   "cell_type": "code",
   "execution_count": 100,
   "metadata": {},
   "outputs": [],
   "source": [
    "hierarchy = {\n",
    "    \"Broader health, development and rights\":\n",
    "        {\"ENVIRON\": \"Environmental health and agricultural support\",\n",
    "         # \"?\": \"Continuity of Care\",  # not found\n",
    "       #  \"EQUITABLE\": \"Equitable care (Universal Healthcare)\",\n",
    "         \"RSCHTECH\": \"Evidence, research, innovation and technology\",\n",
    "         \"POWER\": \"Power, Policy/Politics and Rights\",\n",
    "         #\"WOMENSEQUALITY\": \"Empowerment and rights (women’s leadership)\"\n",
    "         },\n",
    "    \"Equity, Dignity, and Respect\":\n",
    "        {\"ATTENTIVENESS\": \"Timely and attentive care\",  # merged with 24x7\n",
    "         # \"BIRTHCOMPANION\": \"Birth Companion Choice\", # no data\n",
    "         # \"INFORMEDCONSENT\": \"Informed Consent\", # no data\n",
    "        # \"NOABUSE\": \"Ethical, lawful non-abusive and secure care\",\n",
    "         # \"NONEGLIGENCE\": \"No unprofessional conduct\", # no data\n",
    "         #\"RESPECT\": \"Respectful and dignified care\",  # ??? not sure\n",
    "          \"RESPECTFULCARE\": \"Respectful and Dignified Care\"\n",
    "         },\n",
    "    \"Facility Improvements\":\n",
    "        {  # \"24X7\": \"24x7 Services, Facilities, Providers\", # merged into ATTENTIVENESS\n",
    "          #  \"BEDS\": \"Beds and bedding\", # add to BETTERFACILITIES\n",
    "            #\"ELECTRICITY\": \"Electricity\",\n",
    "            #  \"KITCHEN\": \"Improved kitchens\", # no data\n",
    "            #'\"LABORATORIES\": \"Laboratories\", # added to BETTERFACILITIES\n",
    "            #\"MANAGEMENT\": \"Administration and record-keeping\",\n",
    "            # \"MATERNALWARDS\": \"Maternal, women's health wards, centers, waiting rooms\", # no data\n",
    "            # \"PRIVACY\": \"More space and privacy\",  # ???? # no data\n",
    "            \"BETTERFACILITIES\": \"Increased, full-functioning and close health facilities\",\n",
    "            \"TRANSPORTATION\": \"Transportation infrastructure\",\n",
    "            \"WASH\": \"Water, sanitation and hygiene\"\n",
    "        },\n",
    "    \"Health Professionals\":\n",
    "        {#\"DOCTORS\": \"Increased, competent and better supported doctors\",\n",
    "         \"HEALTHPROFESSIONALS\": \"Health professionals and related needs\",\n",
    "         #'\"NURSESMIDWIVES\": \"Increased competent and better supported midwives and nurses\",\n",
    "         #\"FEMALEPROVIDERS\": \"More female health providers\",\n",
    "         #\"MALEPROVIDERS\": \"Male health providers\",\n",
    "         #\"SPECIALISTS\": \"Specialists (surgeons, anesthetists)\",\n",
    "         #\"SUPPORTLINKS\": \"Support for traditional, mobile and community health workers\"\n",
    "         },\n",
    "    # \"Uncodable\": {\n",
    "    #     \"UNCODABLE\": \"Uncodable\"\n",
    "    # },\n",
    "    \"Other\":\n",
    "        { #\"COMMUNITY\": \"Community engagement and accountability\",\n",
    "         \"NOINTERVENTION\": \"Reduced medicalization or do not want service\",\n",
    "         \"FITNESS\": \"Fitness and recreation\",\n",
    "         # \"QUOTE\": \"Good Quotes\",\n",
    "         \"HEALTH\": \"Improved health, well-being, health services\",\n",
    "         \"FAMILY\": \"Male engagement, shifts in family/partner dynamics\",\n",
    "         # \"INNOVATION\": \"Innovation, R&D and Technology\", # merged into EVIDENCEBASED\n",
    "         \"ECONOMIC\": \"Economic opportunity and financial support\",\n",
    "         #  \"MALEENGAGEMENT\": \"Male Engagement\", # no data\n",
    "         #  \"PARENTALLEAVE\": \"Maternity, Paternity Leave\", # no data\n",
    "         \"NODEMAND\": \"No demand, everything is OK\",\n",
    "         #\"NOHARMFULPRACTICE\": \"End violence, harmful practices against women and girls\",\n",
    "         \"OTHERNONDETERMINABLE\": \"Other Asks and Non-Determinable Requests\",\n",
    "         #\"PEACE\": \"Peace, no conflict\",\n",
    "         \"RELIGION\": \"Religious support\",\n",
    "         \"SCHOOLS\": \"Schools and educational opportunity\",\n",
    "         #\"WANTCHILDREN\": \"Want children\"\n",
    "         },\n",
    "    #\"Patient-Provider Communication\":\n",
    "     #   {\n",
    "\n",
    "            # \"BETTERCOMMUNICATION\": \"Complete and understandable communication\", # added to RESPECTFULCARE\n",
    "         #    \"COMMUNICATED\": \"Communication understanding (e.g. language)\", # no data\n",
    "         #\"CONFIDENTIALITY\": \"Confidentiality and privacy\",\n",
    "         #   \"FRIENDLY\": \"Friendly, hospitable and polite\", # no data\n",
    "         #  \"NOSTIGMA\": \"No Judgement or Stigma\", # no data\n",
    "         # \"TOFEELHEARD\": \"To feel heard and listened to, shared trust\" #  no data\n",
    "      #   },\n",
    "    \"Rights and Affordability\": {\n",
    "        \"FREE\": \"Free, affordable and equitable care\",\n",
    "        #   \"NOCORRUPTION\": \"No corruption, informal payments, appropriate payment procedures\", # no data\n",
    "        #   \"RECEIVING\": \"Receiving Entitled Government Benefit, Timely Reimbursements\" #  no data\n",
    "    },\n",
    "    \"Services, Supplies, and Information\":\n",
    "        {\n",
    "            \"ADOLESCENT\": \"Adolescent & Youth-Friendly Info, Services, Supplies\",\n",
    "            \"ANTENATAL\": \"Antenatal and Prenatal Info, Services, Supplies\",\n",
    "            #   \"ALTERNATIVES\": \"Availability of Alternative Birthing Practices\", #  no data\n",
    "            \"CANCER\": \"Breast, Cervical and Other Cancers Info, Services, Supplies\",\n",
    "            \"CHILD\": \"Child health Info, Services, Supplies (Vaccines)\",\n",
    "            \"DISABILITY\": \"Disability Info, Services, Supplies\",\n",
    "            \"FAMILYPLANNING\": \"Family Planning & Contraceptive Info, Services, Supplies\",\n",
    "            \"FOOD\": \"Food and Nutrition Info, Services, Supplies\",\n",
    "            \"HIVSTITB\": \"HIV, STI, Hepatitis and TB Info, Services, Supplies\",\n",
    "            \"INFERTILITY\": \"Infertility Info, Services, Supplies\",\n",
    "            \"INFORMATION\": \"Counseling and awareness on health & services\",\n",
    "            \"LABOR\": \"Labor and delivery Info, services, supplies\",\n",
    "            \"LGBTQ\": \"LGBTQ Info, Services and Supplies\",\n",
    "            \"MALARIA\": \"Malaria and Vector-borne diseases Info, Services, Supplies\",\n",
    "            \"MENSTRUAL\": \"Menstrual Health Info, Services, Supplies\",\n",
    "            \"POSTPARTUM\": \"Post-Partum/Mental Health Info, Services, Supplies\",\n",
    "          #  \"MISCARRIAGE\": \"Miscarriage Info, services, supplies\",\n",
    "            \"NCDS\": \"Noncommunicable Diseases Info, Services, Supplies\",\n",
    "            #    \"PAINMANAGEMENT\": \"Pain Management Info, Services, Supplies\", # no data\n",
    "            \"POSTMENOPAUSAL\": \"Post-menopausal/elderly Info, Services, Supplies\",\n",
    "            # \"POSTPARTUM\": \"Post-partum, Newborn and Infant Health Info, Services, Supplies\", #  no data\n",
    "            #\"REFERRAL\": \"Referral system\",\n",
    "            \"ABORTION\": \"Abortion/Miscarriage Info, Services, Supplies\",\n",
    "            \"SUPPLIES\": \"Medicines and supplies (blood)\",\n",
    "            \"OTHERSERVICES\": \"Other specific services (e.g. dentistry, eye care)\",\n",
    "        },\n",
    "    # \"To feel safe from threat, danger and discrimination when seeking health services\":\n",
    "    #   {\n",
    "    # \"NODISCRIMINATION\": \"No Discrimination or Denial of Services re Sex, Ethnicity, Race, Class or Migratory Status\", # no data\n",
    "    #  \"NOARRESTFEAR\": \"No Fear of Deportation, Detainment or Arrest\", # no data\n",
    "    #   \"SECURITY\": \"Security provisions\", # no data\n",
    "    #       \"TOFEELSAFE\": \"To feel safe and free from threat and danger (general)\" #  no data\n",
    "    #  }\n",
    "\n",
    "}\n",
    "\n",
    "category_colours = {'Broader health, development and rights': '#2ca02c',\n",
    "                    'Equity, Dignity, and Respect': '#ff7f0e',\n",
    "                    'Facility Improvements': '#17becf',\n",
    "                    'Health Professionals': '#bcbd22',\n",
    "                    'Other': 'lightslategray',\n",
    "                    'Patient-Provider Communication': '#e377c2',\n",
    "                    'Rights and Affordability': '#d62728',\n",
    "                    'Services, Supplies, and Information': '#1f77b4'}\n",
    "\n",
    "mapping_to_top_level = {}\n",
    "mapping_to_description = {}\n",
    "for top_level, leaves in hierarchy.items():\n",
    "    for code, name in leaves.items():\n",
    "        mapping_to_top_level[code] = top_level\n",
    "        mapping_to_description[code] = name\n",
    "\n",
    "\n",
    "def get_menu_items():\n",
    "    l = []\n",
    "    # l.append({\"label\": \"all categories\", \"value\": \"\"})\n",
    "    for top_level, leaves in hierarchy.items():\n",
    "\n",
    "        l.append({\"label\": top_level, \"value\": top_level})\n",
    "        for code, name in leaves.items():\n",
    "            l.append({\"label\": \"— \" + name, \"value\": code})\n",
    "\n",
    "    return l"
   ]
  },
  {
   "cell_type": "code",
   "execution_count": 101,
   "metadata": {},
   "outputs": [
    {
     "data": {
      "text/plain": [
       "39"
      ]
     },
     "execution_count": 101,
     "metadata": {},
     "output_type": "execute_result"
    }
   ],
   "source": [
    "len(mapping_to_description)"
   ]
  },
  {
   "cell_type": "code",
   "execution_count": 102,
   "metadata": {},
   "outputs": [
    {
     "name": "stdout",
     "output_type": "stream",
     "text": [
      "ABORTION\tAbortion/Miscarriage Info, Services, Supplies\n",
      "ADOLESCENT\tAdolescent & Youth-Friendly Info, Services, Supplies\n",
      "ANTENATAL\tAntenatal and Prenatal Info, Services, Supplies\n",
      "ATTENTIVENESS\tTimely and attentive care\n",
      "BETTERFACILITIES\tIncreased, full-functioning and close health facilities\n",
      "CANCER\tBreast, Cervical and Other Cancers Info, Services, Supplies\n",
      "CHILD\tChild health Info, Services, Supplies (Vaccines)\n",
      "DISABILITY\tDisability Info, Services, Supplies\n",
      "ECONOMIC\tEconomic opportunity and financial support\n",
      "ENVIRON\tEnvironmental health and agricultural support\n",
      "FAMILY\tMale engagement, shifts in family/partner dynamics\n",
      "FAMILYPLANNING\tFamily Planning & Contraceptive Info, Services, Supplies\n",
      "FITNESS\tFitness and recreation\n",
      "FOOD\tFood and Nutrition Info, Services, Supplies\n",
      "FREE\tFree, affordable and equitable care\n",
      "HEALTH\tImproved health, well-being, health services\n",
      "HEALTHPROFESSIONALS\tHealth professionals and related needs\n",
      "HIVSTITB\tHIV, STI, Hepatitis and TB Info, Services, Supplies\n",
      "INFERTILITY\tInfertility Info, Services, Supplies\n",
      "INFORMATION\tCounseling and awareness on health & services\n",
      "LABOR\tLabor and delivery Info, services, supplies\n",
      "LGBTQ\tLGBTQ Info, Services and Supplies\n",
      "MALARIA\tMalaria and Vector-borne diseases Info, Services, Supplies\n",
      "MENSTRUAL\tMenstrual Health Info, Services, Supplies\n",
      "NCDS\tNoncommunicable Diseases Info, Services, Supplies\n",
      "NODEMAND\tNo demand, everything is OK\n",
      "NOINTERVENTION\tReduced medicalization or do not want service\n",
      "OTHERNONDETERMINABLE\tOther Asks and Non-Determinable Requests\n",
      "OTHERSERVICES\tOther specific services (e.g. dentistry, eye care)\n",
      "POSTMENOPAUSAL\tPost-menopausal/elderly Info, Services, Supplies\n",
      "POSTPARTUM\tPost-Partum/Mental Health Info, Services, Supplies\n",
      "POWER\tPower, Policy/Politics and Rights\n",
      "RELIGION\tReligious support\n",
      "RESPECTFULCARE\tRespectful and Dignified Care\n",
      "RSCHTECH\tEvidence, research, innovation and technology\n",
      "SCHOOLS\tSchools and educational opportunity\n",
      "SUPPLIES\tMedicines and supplies (blood)\n",
      "TRANSPORTATION\tTransportation infrastructure\n",
      "WASH\tWater, sanitation and hygiene\n"
     ]
    }
   ],
   "source": [
    "import operator\n",
    "for a, b in sorted(mapping_to_description.items(), key=operator.itemgetter(0)):\n",
    "    print (a + \"\\t\" + b)"
   ]
  },
  {
   "cell_type": "code",
   "execution_count": 103,
   "metadata": {},
   "outputs": [],
   "source": [
    "# some IMPROVED codes look like they need to be merged\n",
    "def clean_up_code(code):\n",
    "    if type(code) is str:\n",
    "        code = code.upper()\n",
    "    if code in [\"INNOVATION\", \"EVIDENCEBASE\", \"EVIDENCEBASED\"]:\n",
    "        return \"RSCHTECH\"\n",
    "    if code == \"24X7\":\n",
    "        return \"ATTENTIVENESS\"\n",
    "    if code == \"HEALTHCARE\":\n",
    "        return \"HEALTH\"\n",
    "    if code == \"GOOD\":\n",
    "        return \"HEALTH\"\n",
    "    if code in [\"ALTERNATIVES\", \"BIRTHCOMPANION\", \"MATERNALWARDS\"]:\n",
    "        return \"LABOR\"\n",
    "    if code in [\"PRIVACY\", \"BEDS\"]:\n",
    "        return \"BETTERFACILITIES\"\n",
    "    if code in [\"KITCHEN\"]:\n",
    "        return \"FOOD\"\n",
    "    if code in [\"RECEIVING\", \"EQUITABLE\"]:\n",
    "        return \"FREE\"\n",
    "    if code in [\"COMMUNICATED\", \"BETTERCOMMUNICATION\", \"NOSTIGMA\", \"RESPECT\", \"FRIENDLY\", \"INFORMEDCONSENT\", \\\n",
    "                \"TOFEELHEARD\", \"RESPECTFULCARE\", \"CONFIDENTIALITY\"]:\n",
    "        return \"RESPECTFULCARE\"\n",
    "    if code in [\"MALEENGAGEMENT\", \"IMPROVED\"]:\n",
    "        return \"FAMILY\"\n",
    "    if code in [\"MENTAL\"]:\n",
    "        return \"POSTPARTUM\"\n",
    "    if code in [\"NOARRESTFEAR\", \"NOCORRUPTION\", \"NODISCRIMINATION\", \"SECURITY\", \"NOABUSE\", \"SECURECARE\"]:\n",
    "        return \"RESPECTFULCARE\"\n",
    "    if code == \"OTHER\":\n",
    "        return \"OTHERSERVICES\"\n",
    "    # new merges and renames 15 Jan 2021\n",
    "    if code == \"CLIMATE\":\n",
    "        return \"ENVIRON\"\n",
    "    if code in [ \"COMMUNITY\", \"ENGAGEACCT\", \"FUNDING\", \"POLCHANGE\", \"NOHARMFULPRACTICE\", \"PEACE\", \"WOMENSEQUALITY\"]:\n",
    "        return \"POWER\"\n",
    "    if code in [\"MIDWIVES\", \"DOCTORS\", \"FEMALEPROVIDERS\", \"MALEPROVIDERS\", \"NURSESMIDWIVES\", \"SPECIALISTS\", \"SUPPORTLINKS\", \"COMMWORK\"]:\n",
    "        return \"HEALTHPROFESSIONALS\"\n",
    "    if code == \"HIV\":\n",
    "        return \"HIVSTITB\"\n",
    "    if code == \"JOBS\":\n",
    "        return \"ECONOMIC\"\n",
    "    if code in [\"MANAGEMENT\", \"ADMIN\", \"REFERRAL\", \"BED\", \"ELECTRICITY\", \"LABORATORIES\"]:\n",
    "        return \"BETTERFACILITIES\"\n",
    "    if code in [\"MISCARRIAGE\", \"SAFEABORTION\"]:\n",
    "        return \"ABORTION\"\n",
    "    if code in [\"NOTRELATED\", \"OTHERQUESTIONABLE\"]:\n",
    "        return \"OTHERNONDETERMINABLE\"\n",
    "    if code == \"RELIGIOUS\":\n",
    "        return \"RELIGION\"\n",
    "    if code == \"WANTCHILDREN\":\n",
    "        return \"INFERTILITY\"\n",
    "    else:\n",
    "        return code"
   ]
  },
  {
   "cell_type": "code",
   "execution_count": 104,
   "metadata": {},
   "outputs": [],
   "source": [
    "def sanitise_string(code):\n",
    "    return re.sub(r'[^A-Z0-9]', '', code.upper())"
   ]
  },
  {
   "cell_type": "code",
   "execution_count": 105,
   "metadata": {},
   "outputs": [],
   "source": [
    "def uber_clean_up_code(code):\n",
    "    if type(code) is not str:\n",
    "        return code\n",
    "    code = sanitise_string(code)\n",
    "    code = clean_up_code(code)\n",
    "    code = sanitise_string(code)\n",
    "    return code"
   ]
  },
  {
   "cell_type": "code",
   "execution_count": 106,
   "metadata": {},
   "outputs": [
    {
     "data": {
      "text/plain": [
       "0"
      ]
     },
     "execution_count": 106,
     "metadata": {},
     "output_type": "execute_result"
    }
   ],
   "source": [
    "len(df_all[df_all.canonical_code == \"CONFIDENTIALITY\"])"
   ]
  },
  {
   "cell_type": "code",
   "execution_count": 107,
   "metadata": {},
   "outputs": [],
   "source": [
    "df_all[\"canonical_code\"] = df_all.code.apply(uber_clean_up_code)"
   ]
  },
  {
   "cell_type": "code",
   "execution_count": 108,
   "metadata": {},
   "outputs": [],
   "source": [
    "df_all[\"age\"] = df_all[\"age\"].apply(lambda x : 100 if x > 100 else (0 if x <= 14 else x))"
   ]
  },
  {
   "cell_type": "code",
   "execution_count": 109,
   "metadata": {},
   "outputs": [],
   "source": [
    "df_all[\"canonical_country\"] = df_all[\"iso_country\"].apply(lambda x : re.sub(r', .+', '', pycountry.countries.lookup(x).name))"
   ]
  },
  {
   "cell_type": "markdown",
   "metadata": {},
   "source": [
    "## If something is in OTHERQUESTIONABLE and also in another category, remove OTHERQUESTIONABLE"
   ]
  },
  {
   "cell_type": "code",
   "execution_count": 110,
   "metadata": {},
   "outputs": [],
   "source": [
    "identifiers_otherquestionable = set(df_all[df_all.canonical_code==\"OTHERNONDETERMINABLE\"].identifier)\n",
    "identifiers_not_otherquestionable = set(df_all[df_all.canonical_code!=\"OTHERNONDETERMINABLE\"].identifier)\n",
    "otherquestionables_to_delete = set(identifiers_otherquestionable.intersection(identifiers_not_otherquestionable))"
   ]
  },
  {
   "cell_type": "code",
   "execution_count": 111,
   "metadata": {},
   "outputs": [],
   "source": [
    "df_all = df_all[~df_all.identifier.isin(otherquestionables_to_delete)]"
   ]
  },
  {
   "cell_type": "code",
   "execution_count": 112,
   "metadata": {},
   "outputs": [],
   "source": [
    "# Rename OTHERQUESTIONABLE to OTHERNONDETERMINABLE\n",
    "df_all[\"canonical_code\"] = df_all[\"canonical_code\"].apply(lambda x : \"OTHERNONDETERMINABLE\" if x == \"OTHERNONDETERMINABLE\" else x)"
   ]
  },
  {
   "cell_type": "code",
   "execution_count": 113,
   "metadata": {},
   "outputs": [],
   "source": [
    "df_all = df_all[df_all.canonical_code.apply(lambda x : type(x) is str)]"
   ]
  },
  {
   "cell_type": "markdown",
   "metadata": {},
   "source": [
    "## Remove the entries for countries that have only <10 responses"
   ]
  },
  {
   "cell_type": "code",
   "execution_count": 114,
   "metadata": {},
   "outputs": [
    {
     "name": "stdout",
     "output_type": "stream",
     "text": [
      "1192942\n"
     ]
    }
   ],
   "source": [
    "print (len(df_all))"
   ]
  },
  {
   "cell_type": "code",
   "execution_count": 115,
   "metadata": {},
   "outputs": [],
   "source": [
    "df_all = df_all[~df_all[\"canonical_country\"].isin([\"Chile\", \"Honduras\", \"Senegal\", \"South Sudan\", \"United Kingdom\", \"United States\"])]"
   ]
  },
  {
   "cell_type": "code",
   "execution_count": 116,
   "metadata": {},
   "outputs": [
    {
     "name": "stdout",
     "output_type": "stream",
     "text": [
      "1192558\n"
     ]
    }
   ],
   "source": [
    "print (len(df_all))"
   ]
  },
  {
   "cell_type": "markdown",
   "metadata": {},
   "source": [
    "## Remove the entries where the canonical code is not in the master list\n",
    "\n",
    "First print what those codes are which are to be removed.\n",
    "\n",
    "Mostly typos from the hand coding."
   ]
  },
  {
   "cell_type": "code",
   "execution_count": 117,
   "metadata": {},
   "outputs": [
    {
     "data": {
      "text/plain": [
       "ANTENATALADOLESCENTFOOD              4809\n",
       "LABORBETTERFACILITIES                2508\n",
       "ATTENTIVENESSTRANSPORTATION          1730\n",
       "HEALTHPROFESSIONALSRESPECTFULCARE    1482\n",
       "LABORFREE                            1469\n",
       "                                     ... \n",
       "INFORMATIONPOWER                        1\n",
       "HEALH                                   1\n",
       "HEALTHWORKERS                           1\n",
       "ELECTRCITY                              1\n",
       "POSTPARUM                               1\n",
       "Name: canonical_code, Length: 201, dtype: int64"
      ]
     },
     "execution_count": 117,
     "metadata": {},
     "output_type": "execute_result"
    }
   ],
   "source": [
    "df_all.canonical_code[~df_all[\"canonical_code\"].isin(mapping_to_top_level)].value_counts()"
   ]
  },
  {
   "cell_type": "code",
   "execution_count": 118,
   "metadata": {},
   "outputs": [
    {
     "data": {
      "text/plain": [
       "20738"
      ]
     },
     "execution_count": 118,
     "metadata": {},
     "output_type": "execute_result"
    }
   ],
   "source": [
    "len(df_all[~df_all[\"canonical_code\"].isin(mapping_to_top_level)])"
   ]
  },
  {
   "cell_type": "code",
   "execution_count": 119,
   "metadata": {},
   "outputs": [],
   "source": [
    "df_all = df_all[df_all[\"canonical_code\"].isin(mapping_to_top_level)]"
   ]
  },
  {
   "cell_type": "code",
   "execution_count": 120,
   "metadata": {},
   "outputs": [
    {
     "name": "stdout",
     "output_type": "stream",
     "text": [
      "1171820\n"
     ]
    }
   ],
   "source": [
    "print (len(df_all))"
   ]
  },
  {
   "cell_type": "code",
   "execution_count": 121,
   "metadata": {},
   "outputs": [],
   "source": [
    "df_all = df_all[df_all.raw_response.str.len() >= 3]"
   ]
  },
  {
   "cell_type": "code",
   "execution_count": 122,
   "metadata": {},
   "outputs": [],
   "source": [
    "MAX_LENGTH = 300\n",
    "def shorten(x):\n",
    "    if len(x) < MAX_LENGTH:\n",
    "        return x\n",
    "    else:\n",
    "        return re.sub(r'\\W+\\w+$', '', x[:MAX_LENGTH])"
   ]
  },
  {
   "cell_type": "code",
   "execution_count": 123,
   "metadata": {},
   "outputs": [
    {
     "data": {
      "text/plain": [
       "(1171800, 1018487)"
      ]
     },
     "execution_count": 123,
     "metadata": {},
     "output_type": "execute_result"
    }
   ],
   "source": [
    "len(df_all), len(set(df_all.identifier))"
   ]
  },
  {
   "cell_type": "code",
   "execution_count": 124,
   "metadata": {},
   "outputs": [
    {
     "data": {
      "text/plain": [
       "789826    10\n",
       "784036     9\n",
       "292924     8\n",
       "298278     8\n",
       "298276     8\n",
       "          ..\n",
       "322057     1\n",
       "320008     1\n",
       "301575     1\n",
       "309763     1\n",
       "4098       1\n",
       "Name: identifier, Length: 1018487, dtype: int64"
      ]
     },
     "execution_count": 124,
     "metadata": {},
     "output_type": "execute_result"
    }
   ],
   "source": [
    "df_all.identifier.value_counts()"
   ]
  },
  {
   "cell_type": "code",
   "execution_count": 125,
   "metadata": {},
   "outputs": [],
   "source": [
    "from functools import reduce\n",
    "def term_aggregator(s):\n",
    "    return reduce(lambda x, y: x + \"/\" + y, s)"
   ]
  },
  {
   "cell_type": "code",
   "execution_count": 49,
   "metadata": {},
   "outputs": [],
   "source": [
    "df_all_grouped = df_all.groupby(\"identifier\").aggregate({\"raw_response\":\"first\",\n",
    "                                                         \"iso_country\":\"first\",\n",
    "                                                         \"age\":\"first\",\n",
    "                                                         \"canonical_code\":term_aggregator,\n",
    "                                                         \"canonical_country\":\"first\",\n",
    "                                                        \"identifier\":\"first\",\n",
    "                                                        \"source\":\"first\"})"
   ]
  },
  {
   "cell_type": "markdown",
   "metadata": {},
   "source": [
    "## Double code LABOR to BETTERFACILITIES\n",
    "\n",
    "Special fix for LABOR: double coding note: will need to be double coded so that the responses that had to do with maternity wards also go in BETTERFACILITIES"
   ]
  },
  {
   "cell_type": "code",
   "execution_count": 50,
   "metadata": {},
   "outputs": [
    {
     "data": {
      "text/plain": [
       "identifier\n",
       "418766                                   Provide pain killer\n",
       "899349                          Need child delivery facility\n",
       "261833                                    FREE DELIVERY KITS\n",
       "1008318                             Maternity home is needed\n",
       "1020897                      Provision of maternity hospital\n",
       "1033927                            Want facilities for women\n",
       "958671         Maternity home should be establish in village\n",
       "1008270        Maternal health facilities should be provided\n",
       "810087                    REQUIRED ICU ROOM IN THE HOSPITAL.\n",
       "793956     Greater attention to women with childbirth com...\n",
       "Name: raw_response, dtype: object"
      ]
     },
     "execution_count": 50,
     "metadata": {},
     "output_type": "execute_result"
    }
   ],
   "source": [
    "df_all_grouped[df_all_grouped.canonical_code == \"LABOR\"].raw_response.sample(10)"
   ]
  },
  {
   "cell_type": "code",
   "execution_count": 51,
   "metadata": {},
   "outputs": [
    {
     "data": {
      "text/plain": [
       "0"
      ]
     },
     "execution_count": 51,
     "metadata": {},
     "output_type": "execute_result"
    }
   ],
   "source": [
    "len(df_all_grouped[df_all_grouped.canonical_code.str.contains(\"LABORATORIES\")])"
   ]
  },
  {
   "cell_type": "code",
   "execution_count": 52,
   "metadata": {},
   "outputs": [
    {
     "data": {
      "text/plain": [
       "82883"
      ]
     },
     "execution_count": 52,
     "metadata": {},
     "output_type": "execute_result"
    }
   ],
   "source": [
    "len(df_all_grouped[df_all_grouped.canonical_code.str.contains(\"SUPPLIES\")])"
   ]
  },
  {
   "cell_type": "code",
   "execution_count": 53,
   "metadata": {},
   "outputs": [
    {
     "data": {
      "text/plain": [
       "103775"
      ]
     },
     "execution_count": 53,
     "metadata": {},
     "output_type": "execute_result"
    }
   ],
   "source": [
    "len(df_all_grouped[df_all_grouped.canonical_code.str.contains(\"BETTERFACILITIES\")])"
   ]
  },
  {
   "cell_type": "code",
   "execution_count": 54,
   "metadata": {},
   "outputs": [],
   "source": [
    "for idx in range(len(df_all_grouped)):\n",
    "    if \"LABORATORIES\" in df_all_grouped.canonical_code.iloc[idx] and \"BETTERFACILITIES\" not in df_all_grouped.canonical_code.iloc[idx]  and \"SUPPLIES\" not in df_all_grouped.canonical_code.iloc[idx]:\n",
    "        text = df_all_grouped.raw_response.iloc[idx].lower()\n",
    "        if \"test\" in text:\n",
    "            df_all_grouped[\"canonical_code\"].iloc[idx] += \"/SUPPLIES\"\n",
    "            df_all_grouped[\"canonical_code\"].iloc[idx] = re.sub(\"LABORATORIES/\", \"\", df_all_grouped[\"canonical_code\"].iloc[idx])\n",
    "        else:\n",
    "            df_all_grouped[\"canonical_code\"].iloc[idx] += \"/BETTERFACILITIES\""
   ]
  },
  {
   "cell_type": "code",
   "execution_count": 55,
   "metadata": {},
   "outputs": [
    {
     "data": {
      "text/plain": [
       "0"
      ]
     },
     "execution_count": 55,
     "metadata": {},
     "output_type": "execute_result"
    }
   ],
   "source": [
    "len(df_all_grouped[df_all_grouped.canonical_code.str.contains(\"LABORATORIES\")])"
   ]
  },
  {
   "cell_type": "code",
   "execution_count": 56,
   "metadata": {},
   "outputs": [
    {
     "data": {
      "text/plain": [
       "82883"
      ]
     },
     "execution_count": 56,
     "metadata": {},
     "output_type": "execute_result"
    }
   ],
   "source": [
    "len(df_all_grouped[df_all_grouped.canonical_code.str.contains(\"SUPPLIES\")])"
   ]
  },
  {
   "cell_type": "code",
   "execution_count": 57,
   "metadata": {},
   "outputs": [
    {
     "data": {
      "text/plain": [
       "103775"
      ]
     },
     "execution_count": 57,
     "metadata": {},
     "output_type": "execute_result"
    }
   ],
   "source": [
    "len(df_all_grouped[df_all_grouped.canonical_code.str.contains(\"BETTERFACILITIES\")])"
   ]
  },
  {
   "cell_type": "markdown",
   "metadata": {},
   "source": [
    "If it is ONLY ‘privacy’, it goes into RESPECTFULCARE. But, if it is something related to both privacy and the facility, it should be double coded (so, if it has to do with curtains, your own bed, or the search terms below) it should be double coded in both RESPECTFULCARE and BETTERFACILITIES."
   ]
  },
  {
   "cell_type": "code",
   "execution_count": 58,
   "metadata": {},
   "outputs": [
    {
     "name": "stderr",
     "output_type": "stream",
     "text": [
      "C:\\Users\\catie\\anaconda3\\lib\\site-packages\\pandas\\core\\indexing.py:671: SettingWithCopyWarning: \n",
      "A value is trying to be set on a copy of a slice from a DataFrame\n",
      "\n",
      "See the caveats in the documentation: https://pandas.pydata.org/pandas-docs/stable/user_guide/indexing.html#returning-a-view-versus-a-copy\n",
      "  self._setitem_with_indexer(indexer, value)\n"
     ]
    }
   ],
   "source": [
    "for idx in range(len(df_all_grouped)):\n",
    "    if \"LABOR\" in df_all_grouped.canonical_code.iloc[idx]:\n",
    "        text = df_all_grouped.raw_response.iloc[idx].lower()\n",
    "        if \"ward\" in text or \"room\" in text or \"bed\" in text:\n",
    "            if \"BETTERFACILITIES\" not in df_all_grouped.canonical_code.iloc[idx]:\n",
    "                df_all_grouped[\"canonical_code\"].iloc[idx] += \"/BETTERFACILITIES\"\n",
    "            if \"RESPECTFULCARE\" not in df_all_grouped.canonical_code.iloc[idx]:\n",
    "                df_all_grouped[\"canonical_code\"].iloc[idx] += \"/RESPECTFULCARE\""
   ]
  },
  {
   "cell_type": "code",
   "execution_count": 59,
   "metadata": {},
   "outputs": [
    {
     "data": {
      "text/plain": [
       "109321"
      ]
     },
     "execution_count": 59,
     "metadata": {},
     "output_type": "execute_result"
    }
   ],
   "source": [
    "len(df_all_grouped[df_all_grouped.canonical_code.str.contains(\"BETTERFACILITIES\")])"
   ]
  },
  {
   "cell_type": "code",
   "execution_count": 60,
   "metadata": {},
   "outputs": [
    {
     "data": {
      "text/plain": [
       "47339"
      ]
     },
     "execution_count": 60,
     "metadata": {},
     "output_type": "execute_result"
    }
   ],
   "source": [
    "len(df_all_grouped[df_all_grouped.canonical_code.str.contains(\"LABOR\")])"
   ]
  },
  {
   "cell_type": "code",
   "execution_count": 61,
   "metadata": {},
   "outputs": [],
   "source": [
    "for idx in range(len(df_all_grouped)):\n",
    "    if \"NOINTERVENTION\" in df_all_grouped.canonical_code.iloc[idx] and \"LABOR\" not in df_all_grouped.canonical_code.iloc[idx]:\n",
    "        text = df_all_grouped.raw_response.iloc[idx].lower()\n",
    "        if re.findall(\"ca?esar|c[- ]?section\", text):\n",
    "            df_all_grouped[\"canonical_code\"].iloc[idx] += \"/LABOR\"\n",
    "            df_all_grouped[\"canonical_code\"].iloc[idx] = re.sub(\"NOINTERVENTION/\", \"\", df_all_grouped[\"canonical_code\"].iloc[idx])"
   ]
  },
  {
   "cell_type": "code",
   "execution_count": 62,
   "metadata": {},
   "outputs": [
    {
     "data": {
      "text/plain": [
       "47364"
      ]
     },
     "execution_count": 62,
     "metadata": {},
     "output_type": "execute_result"
    }
   ],
   "source": [
    "len(df_all_grouped[df_all_grouped.canonical_code.str.contains(\"LABOR\")])"
   ]
  },
  {
   "cell_type": "markdown",
   "metadata": {},
   "source": [
    "# only \"privacy\" -> \"RESPECTFULCARE\""
   ]
  },
  {
   "cell_type": "code",
   "execution_count": 63,
   "metadata": {},
   "outputs": [],
   "source": [
    "for idx in range(len(df_all_grouped)):\n",
    "    text = df_all_grouped.raw_response.iloc[idx].lower()\n",
    "    if text == \"privacy\":\n",
    "        df_all_grouped[\"canonical_code\"].iloc[idx] = \"RESPECTFULCARE\""
   ]
  },
  {
   "cell_type": "markdown",
   "metadata": {},
   "source": [
    "# Best/good deal -> +RESPECTFULCARE"
   ]
  },
  {
   "cell_type": "code",
   "execution_count": 64,
   "metadata": {},
   "outputs": [],
   "source": [
    "for idx in range(len(df_all_grouped)):\n",
    "    text = df_all_grouped.raw_response.iloc[idx].lower()\n",
    "    if  \"good deal\" in text or \"best deal\" in text:\n",
    "        df_all_grouped[\"canonical_code\"].iloc[idx] += \"/RESPECTFULCARE\""
   ]
  },
  {
   "cell_type": "markdown",
   "metadata": {},
   "source": [
    "# Free/cheap/affordable/money"
   ]
  },
  {
   "cell_type": "markdown",
   "metadata": {},
   "source": [
    "all mentions can now be double coded in their topic category and the FREE code"
   ]
  },
  {
   "cell_type": "code",
   "execution_count": 65,
   "metadata": {},
   "outputs": [
    {
     "data": {
      "text/plain": [
       "63553"
      ]
     },
     "execution_count": 65,
     "metadata": {},
     "output_type": "execute_result"
    }
   ],
   "source": [
    "len(df_all_grouped[df_all_grouped.canonical_code.str.contains(\"FREE\")])"
   ]
  },
  {
   "cell_type": "code",
   "execution_count": 66,
   "metadata": {},
   "outputs": [
    {
     "data": {
      "text/plain": [
       "99437"
      ]
     },
     "execution_count": 66,
     "metadata": {},
     "output_type": "execute_result"
    }
   ],
   "source": [
    "num_changed = 0\n",
    "pattern = re.compile(r'(?i).*(?:free|cheap|affordable|money)')\n",
    "for idx in range(len(df_all_grouped)):\n",
    "    text = df_all_grouped.raw_response.iloc[idx]\n",
    "    if pattern.match(text):\n",
    "        df_all_grouped[\"canonical_code\"].iloc[idx] += \"/FREE\"\n",
    "        num_changed += 1\n",
    "num_changed"
   ]
  },
  {
   "cell_type": "code",
   "execution_count": 67,
   "metadata": {},
   "outputs": [
    {
     "data": {
      "text/plain": [
       "109343"
      ]
     },
     "execution_count": 67,
     "metadata": {},
     "output_type": "execute_result"
    }
   ],
   "source": [
    "len(df_all_grouped[df_all_grouped.canonical_code.str.contains(\"FREE\")])\n",
    "# was 85124 before fix of .*"
   ]
  },
  {
   "cell_type": "markdown",
   "metadata": {},
   "source": [
    "# Girl/Teen/Teenage/Young/Youth"
   ]
  },
  {
   "cell_type": "markdown",
   "metadata": {},
   "source": [
    "all mentions can now be double coded to expanded Adolescent code"
   ]
  },
  {
   "cell_type": "code",
   "execution_count": 68,
   "metadata": {},
   "outputs": [
    {
     "data": {
      "text/plain": [
       "15918"
      ]
     },
     "execution_count": 68,
     "metadata": {},
     "output_type": "execute_result"
    }
   ],
   "source": [
    "len(df_all_grouped[df_all_grouped.canonical_code.str.contains(\"ADOLESCENT\")])"
   ]
  },
  {
   "cell_type": "code",
   "execution_count": 69,
   "metadata": {},
   "outputs": [],
   "source": [
    "pattern = re.compile(r'(?i).*(?:girl|\\bteens?\\b|teenage|young|youth)')\n",
    "for idx in range(len(df_all_grouped)):\n",
    "    text = df_all_grouped.raw_response.iloc[idx]\n",
    "    if pattern.match(text):\n",
    "        df_all_grouped[\"canonical_code\"].iloc[idx] += \"/ADOLESCENT\""
   ]
  },
  {
   "cell_type": "markdown",
   "metadata": {},
   "source": [
    "# \"child\""
   ]
  },
  {
   "cell_type": "markdown",
   "metadata": {},
   "source": [
    "anything that now mentions child or children can be double coded to CHILD code"
   ]
  },
  {
   "cell_type": "code",
   "execution_count": 70,
   "metadata": {},
   "outputs": [],
   "source": [
    "pattern = re.compile(r'(?i).*child')\n",
    "neg = re.compile(r'(?i)(want|have).+child')\n",
    "for idx in range(len(df_all_grouped)):\n",
    "    text = df_all_grouped.raw_response.iloc[idx]\n",
    "    if pattern.match(text) and not neg.match(text):\n",
    "        df_all_grouped[\"canonical_code\"].iloc[idx] += \"/CHILD\""
   ]
  },
  {
   "cell_type": "markdown",
   "metadata": {},
   "source": [
    "# Maternity or labor ward/wing"
   ]
  },
  {
   "cell_type": "markdown",
   "metadata": {},
   "source": [
    "double code to BETTERFACILITIES and LABOR"
   ]
  },
  {
   "cell_type": "code",
   "execution_count": 71,
   "metadata": {},
   "outputs": [],
   "source": [
    "pattern = re.compile(r'(?i).*(?:maternity|labou?r).+(?:ward|bed|room|wing)')\n",
    "for idx in range(len(df_all_grouped)):\n",
    "    text = df_all_grouped.raw_response.iloc[idx]\n",
    "    if pattern.match(text):\n",
    "        df_all_grouped[\"canonical_code\"].iloc[idx] += \"/BETTERFACILITIES/LABOR\""
   ]
  },
  {
   "cell_type": "markdown",
   "metadata": {},
   "source": [
    "# Requests around Privacy AND confidentiality"
   ]
  },
  {
   "cell_type": "markdown",
   "metadata": {},
   "source": [
    "double code to BETTERFACILITIES and RESPECTFULCARE"
   ]
  },
  {
   "cell_type": "code",
   "execution_count": 72,
   "metadata": {},
   "outputs": [],
   "source": [
    "pattern = re.compile(r'(?i).*(?:priva(?:cy|te).+confidential)|(?:confidential.+priva(cy|te))')\n",
    "for idx in range(len(df_all_grouped)):\n",
    "    text = df_all_grouped.raw_response.iloc[idx]\n",
    "    if pattern.match(text):\n",
    "        df_all_grouped[\"canonical_code\"].iloc[idx] += \"/BETTERFACILITIES/RESPECTFULCARE\""
   ]
  },
  {
   "cell_type": "markdown",
   "metadata": {},
   "source": [
    "# Within WASH, Marissa noticed that requests were wrongly double coded to WASH when specifically referencing labor/ maternity ward/delivery."
   ]
  },
  {
   "cell_type": "markdown",
   "metadata": {},
   "source": [
    "This is almost exclusively coming from the Nigeria data."
   ]
  },
  {
   "cell_type": "code",
   "execution_count": 73,
   "metadata": {},
   "outputs": [],
   "source": [
    "pattern = re.compile(r'(?i).*(?:deliver|labou?r|maternity)')\n",
    "for idx in range(len(df_all_grouped)):\n",
    "    text = df_all_grouped.raw_response.iloc[idx]\n",
    "    if df_all_grouped.iso_country.iloc[idx] == \"ng\" and pattern.match(text):\n",
    "        df_all_grouped[\"canonical_code\"].iloc[idx] = re.sub(\"/WASH|WASH/\", \"\", df_all_grouped[\"canonical_code\"].iloc[idx])"
   ]
  },
  {
   "cell_type": "markdown",
   "metadata": {},
   "source": [
    "# Single word request for “companionship”¶"
   ]
  },
  {
   "cell_type": "markdown",
   "metadata": {},
   "source": [
    "should be double coded in LABOR and RESPECTFULCARE"
   ]
  },
  {
   "cell_type": "code",
   "execution_count": 74,
   "metadata": {},
   "outputs": [],
   "source": [
    "pattern = re.compile(r'(?i)^companions?(?:hip)?$')\n",
    "for idx in range(len(df_all_grouped)):\n",
    "    text = df_all_grouped.raw_response.iloc[idx]\n",
    "    if pattern.match(text):\n",
    "        df_all_grouped[\"canonical_code\"].iloc[idx] = \"LABOR/RESPECTFULCARE\""
   ]
  },
  {
   "cell_type": "markdown",
   "metadata": {},
   "source": [
    "## Add columns with normalised text\n",
    "\n",
    "Normalizing UK->US spelling\n",
    "\n",
    "removing suffixes such as \"ing\""
   ]
  },
  {
   "cell_type": "code",
   "execution_count": 75,
   "metadata": {},
   "outputs": [],
   "source": [
    "from nltk.tokenize import TweetTokenizer\n",
    "tknzr = TweetTokenizer()"
   ]
  },
  {
   "cell_type": "code",
   "execution_count": 76,
   "metadata": {},
   "outputs": [],
   "source": [
    "import localspelling"
   ]
  },
  {
   "cell_type": "code",
   "execution_count": 77,
   "metadata": {},
   "outputs": [],
   "source": [
    "spelling_lookup = localspelling.spelling_converter.lookups['us'][1]"
   ]
  },
  {
   "cell_type": "code",
   "execution_count": 78,
   "metadata": {},
   "outputs": [
    {
     "name": "stdout",
     "output_type": "stream",
     "text": [
      "['I', 'be', 'love', 'it']\n"
     ]
    }
   ],
   "source": [
    "import nltk\n",
    "from nltk.stem import WordNetLemmatizer\n",
    "from nltk.corpus import wordnet\n",
    "import operator\n",
    "\n",
    "lemmatizer = WordNetLemmatizer()\n",
    "\n",
    "# function to convert nltk tag to wordnet tag\n",
    "def nltk_tag_to_wordnet_tag(nltk_tag):\n",
    "    if nltk_tag.startswith('J'):\n",
    "        return wordnet.ADJ\n",
    "    elif nltk_tag.startswith('V'):\n",
    "        return wordnet.VERB\n",
    "    elif nltk_tag.startswith('N'):\n",
    "        return wordnet.NOUN\n",
    "    elif nltk_tag.startswith('R'):\n",
    "        return wordnet.ADV\n",
    "    else:          \n",
    "        return None\n",
    "\n",
    "def lemmatize_sentence(sentence):\n",
    "    #tokenize the sentence and find the POS tag for each token\n",
    "    #sentence = localspelling.convert_spelling(sentence, \"us\")\n",
    "    nltk_tagged = nltk.pos_tag(nltk.word_tokenize(sentence))  \n",
    "    #tuple of (token, wordnet_tag)\n",
    "    wordnet_tagged = map(lambda x: (x[0], nltk_tag_to_wordnet_tag(x[1])), nltk_tagged)\n",
    "    lemmatized_sentence = []\n",
    "    for word, tag in wordnet_tagged:\n",
    "        orig_word = word\n",
    "        word = spelling_lookup.get(word, word)\n",
    "        \n",
    "        if tag is None:\n",
    "            #if there is no available tag, append the token as is\n",
    "            lemmatized_sentence.append(word)\n",
    "        else:        \n",
    "            #else use the tag to lemmatize the token\n",
    "            lemmatised = lemmatizer.lemmatize(word, tag)\n",
    "            if lemmatised != word and word == orig_word:\n",
    "                lemmatised = spelling_lookup.get(lemmatised, lemmatised)\n",
    "            lemmatized_sentence.append(lemmatised)\n",
    "    return lemmatized_sentence # \" \".join(lemmatized_sentence)\n",
    "\n",
    "print(lemmatize_sentence(\"I am loving it\")) #I be love it"
   ]
  },
  {
   "cell_type": "code",
   "execution_count": 79,
   "metadata": {},
   "outputs": [],
   "source": [
    "df_all_grouped['tokenized'] = df_all_grouped['raw_response'].apply(lambda x : str(x).lower()).apply(lemmatize_sentence)"
   ]
  },
  {
   "cell_type": "code",
   "execution_count": 80,
   "metadata": {},
   "outputs": [],
   "source": [
    "df_all_grouped['lemmatized'] = df_all_grouped['tokenized'].apply(lambda x : \" \".join(x))"
   ]
  },
  {
   "cell_type": "code",
   "execution_count": 81,
   "metadata": {},
   "outputs": [
    {
     "data": {
      "text/plain": [
       "identifier\n",
       "407032                              provision of laboratory\n",
       "99313      availability of asha worker during delivery time\n",
       "744324                  maintain hygiene of maternal center\n",
       "613557                           the free maternity service\n",
       "729911                         free transport ( ambulance )\n",
       "222314                             availability of resource\n",
       "380572                            be polite to the customer\n",
       "197859                 availability of doctor at sub center\n",
       "835426                                   doctor - need more\n",
       "708051    well-equipped rural dispensary that meet the n...\n",
       "Name: lemmatized, dtype: object"
      ]
     },
     "execution_count": 81,
     "metadata": {},
     "output_type": "execute_result"
    }
   ],
   "source": [
    "df_all_grouped[\"lemmatized\"].sample(10)"
   ]
  },
  {
   "cell_type": "markdown",
   "metadata": {},
   "source": [
    "# Remove duplicate canonical codes, which mess up code counts"
   ]
  },
  {
   "cell_type": "code",
   "execution_count": 82,
   "metadata": {},
   "outputs": [],
   "source": [
    "def clean_up_canonical_code(orig):\n",
    "    values = orig.split(\"/\")\n",
    "    return \"/\".join(set(values))\n",
    "df_all_grouped[\"canonical_code\"]= df_all_grouped.canonical_code.apply(clean_up_canonical_code)"
   ]
  },
  {
   "cell_type": "code",
   "execution_count": 83,
   "metadata": {},
   "outputs": [
    {
     "data": {
      "text/html": [
       "<div>\n",
       "<style scoped>\n",
       "    .dataframe tbody tr th:only-of-type {\n",
       "        vertical-align: middle;\n",
       "    }\n",
       "\n",
       "    .dataframe tbody tr th {\n",
       "        vertical-align: top;\n",
       "    }\n",
       "\n",
       "    .dataframe thead th {\n",
       "        text-align: right;\n",
       "    }\n",
       "</style>\n",
       "<table border=\"1\" class=\"dataframe\">\n",
       "  <thead>\n",
       "    <tr style=\"text-align: right;\">\n",
       "      <th></th>\n",
       "      <th>raw_response</th>\n",
       "      <th>iso_country</th>\n",
       "      <th>age</th>\n",
       "      <th>canonical_code</th>\n",
       "      <th>canonical_country</th>\n",
       "      <th>identifier</th>\n",
       "      <th>source</th>\n",
       "      <th>tokenized</th>\n",
       "      <th>lemmatized</th>\n",
       "    </tr>\n",
       "    <tr>\n",
       "      <th>identifier</th>\n",
       "      <th></th>\n",
       "      <th></th>\n",
       "      <th></th>\n",
       "      <th></th>\n",
       "      <th></th>\n",
       "      <th></th>\n",
       "      <th></th>\n",
       "      <th></th>\n",
       "      <th></th>\n",
       "    </tr>\n",
       "  </thead>\n",
       "  <tbody>\n",
       "    <tr>\n",
       "      <th>195151</th>\n",
       "      <td>Vanitha said that the men here are delivering ...</td>\n",
       "      <td>in</td>\n",
       "      <td>28</td>\n",
       "      <td>CHILD/HEALTHPROFESSIONALS</td>\n",
       "      <td>India</td>\n",
       "      <td>195151</td>\n",
       "      <td>manual</td>\n",
       "      <td>[vanitha, say, that, the, men, here, be, deliv...</td>\n",
       "      <td>vanitha say that the men here be deliver the d...</td>\n",
       "    </tr>\n",
       "    <tr>\n",
       "      <th>111597</th>\n",
       "      <td>Doctors, nurse, staff availability</td>\n",
       "      <td>in</td>\n",
       "      <td>21</td>\n",
       "      <td>HEALTHPROFESSIONALS</td>\n",
       "      <td>India</td>\n",
       "      <td>111597</td>\n",
       "      <td>manual</td>\n",
       "      <td>[doctor, ,, nurse, ,, staff, availability]</td>\n",
       "      <td>doctor , nurse , staff availability</td>\n",
       "    </tr>\n",
       "    <tr>\n",
       "      <th>1061496</th>\n",
       "      <td>Consent</td>\n",
       "      <td>mw</td>\n",
       "      <td>26</td>\n",
       "      <td>RESPECTFULCARE</td>\n",
       "      <td>Malawi</td>\n",
       "      <td>1061496</td>\n",
       "      <td>manual</td>\n",
       "      <td>[consent]</td>\n",
       "      <td>consent</td>\n",
       "    </tr>\n",
       "    <tr>\n",
       "      <th>443031</th>\n",
       "      <td>I WANT FREE MATERNITY CARE</td>\n",
       "      <td>ng</td>\n",
       "      <td>32</td>\n",
       "      <td>FREE</td>\n",
       "      <td>Nigeria</td>\n",
       "      <td>443031</td>\n",
       "      <td>manual</td>\n",
       "      <td>[i, want, free, maternity, care]</td>\n",
       "      <td>i want free maternity care</td>\n",
       "    </tr>\n",
       "    <tr>\n",
       "      <th>148078</th>\n",
       "      <td>Free medicines and drugs</td>\n",
       "      <td>in</td>\n",
       "      <td>29</td>\n",
       "      <td>FREE</td>\n",
       "      <td>India</td>\n",
       "      <td>148078</td>\n",
       "      <td>manual</td>\n",
       "      <td>[free, medicine, and, drug]</td>\n",
       "      <td>free medicine and drug</td>\n",
       "    </tr>\n",
       "  </tbody>\n",
       "</table>\n",
       "</div>"
      ],
      "text/plain": [
       "                                                 raw_response iso_country  \\\n",
       "identifier                                                                  \n",
       "195151      Vanitha said that the men here are delivering ...          in   \n",
       "111597                     Doctors, nurse, staff availability          in   \n",
       "1061496                                               Consent          mw   \n",
       "443031                             I WANT FREE MATERNITY CARE          ng   \n",
       "148078                               Free medicines and drugs          in   \n",
       "\n",
       "            age             canonical_code canonical_country  identifier  \\\n",
       "identifier                                                                 \n",
       "195151       28  CHILD/HEALTHPROFESSIONALS             India      195151   \n",
       "111597       21        HEALTHPROFESSIONALS             India      111597   \n",
       "1061496      26             RESPECTFULCARE            Malawi     1061496   \n",
       "443031       32                       FREE           Nigeria      443031   \n",
       "148078       29                       FREE             India      148078   \n",
       "\n",
       "            source                                          tokenized  \\\n",
       "identifier                                                              \n",
       "195151      manual  [vanitha, say, that, the, men, here, be, deliv...   \n",
       "111597      manual         [doctor, ,, nurse, ,, staff, availability]   \n",
       "1061496     manual                                          [consent]   \n",
       "443031      manual                   [i, want, free, maternity, care]   \n",
       "148078      manual                        [free, medicine, and, drug]   \n",
       "\n",
       "                                                   lemmatized  \n",
       "identifier                                                     \n",
       "195151      vanitha say that the men here be deliver the d...  \n",
       "111597                    doctor , nurse , staff availability  \n",
       "1061496                                               consent  \n",
       "443031                             i want free maternity care  \n",
       "148078                                 free medicine and drug  "
      ]
     },
     "execution_count": 83,
     "metadata": {},
     "output_type": "execute_result"
    }
   ],
   "source": [
    "df_all_grouped.sample(5)"
   ]
  },
  {
   "cell_type": "markdown",
   "metadata": {},
   "source": [
    "## Drop columns not needed for dashboard"
   ]
  },
  {
   "cell_type": "code",
   "execution_count": 211,
   "metadata": {},
   "outputs": [],
   "source": [
    "df_all_grouped[\"alpha3country\"] = df_all_grouped[\"iso_country\"].apply(lambda x : re.sub(r', .+', '', pycountry.countries.lookup(x).alpha_3))"
   ]
  },
  {
   "cell_type": "code",
   "execution_count": 212,
   "metadata": {},
   "outputs": [
    {
     "data": {
      "text/html": [
       "<div>\n",
       "<style scoped>\n",
       "    .dataframe tbody tr th:only-of-type {\n",
       "        vertical-align: middle;\n",
       "    }\n",
       "\n",
       "    .dataframe tbody tr th {\n",
       "        vertical-align: top;\n",
       "    }\n",
       "\n",
       "    .dataframe thead th {\n",
       "        text-align: right;\n",
       "    }\n",
       "</style>\n",
       "<table border=\"1\" class=\"dataframe\">\n",
       "  <thead>\n",
       "    <tr style=\"text-align: right;\">\n",
       "      <th></th>\n",
       "      <th>raw_response</th>\n",
       "      <th>iso_country</th>\n",
       "      <th>age</th>\n",
       "      <th>canonical_code</th>\n",
       "      <th>canonical_country</th>\n",
       "      <th>identifier</th>\n",
       "      <th>source</th>\n",
       "      <th>tokenized</th>\n",
       "      <th>lemmatized</th>\n",
       "      <th>alpha3country</th>\n",
       "    </tr>\n",
       "    <tr>\n",
       "      <th>identifier</th>\n",
       "      <th></th>\n",
       "      <th></th>\n",
       "      <th></th>\n",
       "      <th></th>\n",
       "      <th></th>\n",
       "      <th></th>\n",
       "      <th></th>\n",
       "      <th></th>\n",
       "      <th></th>\n",
       "      <th></th>\n",
       "    </tr>\n",
       "  </thead>\n",
       "  <tbody>\n",
       "    <tr>\n",
       "      <th>691492</th>\n",
       "      <td>Free medicines</td>\n",
       "      <td>in</td>\n",
       "      <td>40</td>\n",
       "      <td>FREE</td>\n",
       "      <td>India</td>\n",
       "      <td>691492</td>\n",
       "      <td>manual</td>\n",
       "      <td>[free, medicine]</td>\n",
       "      <td>free medicine</td>\n",
       "      <td>IND</td>\n",
       "    </tr>\n",
       "    <tr>\n",
       "      <th>409203</th>\n",
       "      <td>there should be lady doctor in our village</td>\n",
       "      <td>pk</td>\n",
       "      <td>27</td>\n",
       "      <td>HEALTHPROFESSIONALS</td>\n",
       "      <td>Pakistan</td>\n",
       "      <td>409203</td>\n",
       "      <td>manual</td>\n",
       "      <td>[there, should, be, lady, doctor, in, our, vil...</td>\n",
       "      <td>there should be lady doctor in our village</td>\n",
       "      <td>PAK</td>\n",
       "    </tr>\n",
       "    <tr>\n",
       "      <th>537862</th>\n",
       "      <td>Qualified doctors</td>\n",
       "      <td>ke</td>\n",
       "      <td>20</td>\n",
       "      <td>HEALTHPROFESSIONALS</td>\n",
       "      <td>Kenya</td>\n",
       "      <td>537862</td>\n",
       "      <td>tw_sklearn</td>\n",
       "      <td>[qualified, doctor]</td>\n",
       "      <td>qualified doctor</td>\n",
       "      <td>KEN</td>\n",
       "    </tr>\n",
       "    <tr>\n",
       "      <th>182169</th>\n",
       "      <td>Cleanliness in hospitals</td>\n",
       "      <td>in</td>\n",
       "      <td>32</td>\n",
       "      <td>WASH</td>\n",
       "      <td>India</td>\n",
       "      <td>182169</td>\n",
       "      <td>manual</td>\n",
       "      <td>[cleanliness, in, hospital]</td>\n",
       "      <td>cleanliness in hospital</td>\n",
       "      <td>IND</td>\n",
       "    </tr>\n",
       "    <tr>\n",
       "      <th>194742</th>\n",
       "      <td>ambulance services 24x7 free of cost</td>\n",
       "      <td>in</td>\n",
       "      <td>32</td>\n",
       "      <td>TRANSPORTATION/ATTENTIVENESS/FREE</td>\n",
       "      <td>India</td>\n",
       "      <td>194742</td>\n",
       "      <td>manual</td>\n",
       "      <td>[ambulance, service, 24x7, free, of, cost]</td>\n",
       "      <td>ambulance service 24x7 free of cost</td>\n",
       "      <td>IND</td>\n",
       "    </tr>\n",
       "  </tbody>\n",
       "</table>\n",
       "</div>"
      ],
      "text/plain": [
       "                                          raw_response iso_country  age  \\\n",
       "identifier                                                                \n",
       "691492                                  Free medicines          in   40   \n",
       "409203      there should be lady doctor in our village          pk   27   \n",
       "537862                               Qualified doctors          ke   20   \n",
       "182169                        Cleanliness in hospitals          in   32   \n",
       "194742            ambulance services 24x7 free of cost          in   32   \n",
       "\n",
       "                               canonical_code canonical_country  identifier  \\\n",
       "identifier                                                                    \n",
       "691492                                   FREE             India      691492   \n",
       "409203                    HEALTHPROFESSIONALS          Pakistan      409203   \n",
       "537862                    HEALTHPROFESSIONALS             Kenya      537862   \n",
       "182169                                   WASH             India      182169   \n",
       "194742      TRANSPORTATION/ATTENTIVENESS/FREE             India      194742   \n",
       "\n",
       "                source                                          tokenized  \\\n",
       "identifier                                                                  \n",
       "691492          manual                                   [free, medicine]   \n",
       "409203          manual  [there, should, be, lady, doctor, in, our, vil...   \n",
       "537862      tw_sklearn                                [qualified, doctor]   \n",
       "182169          manual                        [cleanliness, in, hospital]   \n",
       "194742          manual         [ambulance, service, 24x7, free, of, cost]   \n",
       "\n",
       "                                            lemmatized alpha3country  \n",
       "identifier                                                            \n",
       "691492                                   free medicine           IND  \n",
       "409203      there should be lady doctor in our village           PAK  \n",
       "537862                                qualified doctor           KEN  \n",
       "182169                         cleanliness in hospital           IND  \n",
       "194742             ambulance service 24x7 free of cost           IND  "
      ]
     },
     "execution_count": 212,
     "metadata": {},
     "output_type": "execute_result"
    }
   ],
   "source": [
    "df_all_grouped.sample(5)"
   ]
  },
  {
   "cell_type": "code",
   "execution_count": null,
   "metadata": {},
   "outputs": [],
   "source": [
    "sorted(set(df_all_grouped.canonical_country))"
   ]
  },
  {
   "cell_type": "code",
   "execution_count": null,
   "metadata": {},
   "outputs": [],
   "source": [
    "df_all_grouped.groupby([\"iso_country\", \"canonical_country\"])[\"raw_response\"].count().reset_index()"
   ]
  },
  {
   "cell_type": "code",
   "execution_count": null,
   "metadata": {},
   "outputs": [],
   "source": [
    "len(df_all), len(df_all_grouped)"
   ]
  },
  {
   "cell_type": "code",
   "execution_count": null,
   "metadata": {},
   "outputs": [],
   "source": [
    "len(df_all) - len(df_all_grouped)"
   ]
  },
  {
   "cell_type": "code",
   "execution_count": null,
   "metadata": {},
   "outputs": [],
   "source": [
    "from collections import Counter\n",
    "s = Counter()\n",
    "for codes in set(df_all_grouped.canonical_code):\n",
    "    for code in codes.split(\"/\"):\n",
    "        s[re.sub(r'[^A-Z]', '', code.upper())] += 1"
   ]
  },
  {
   "cell_type": "code",
   "execution_count": null,
   "metadata": {},
   "outputs": [],
   "source": [
    "len(s)\n",
    "sorted(s)"
   ]
  },
  {
   "cell_type": "markdown",
   "metadata": {},
   "source": [
    "## Pull out Health Literacy Data"
   ]
  },
  {
   "cell_type": "code",
   "execution_count": 241,
   "metadata": {},
   "outputs": [
    {
     "data": {
      "text/plain": [
       "21290"
      ]
     },
     "execution_count": 241,
     "metadata": {},
     "output_type": "execute_result"
    }
   ],
   "source": [
    "info = df_all_grouped[df_all_grouped['canonical_code'].str.contains('INFORMATION')]\n",
    "info_hl = info[~info['canonical_code'].str.contains('RELIGION|SCHOOLS')]\n",
    "len(info_hl)"
   ]
  },
  {
   "cell_type": "code",
   "execution_count": 242,
   "metadata": {},
   "outputs": [
    {
     "data": {
      "text/plain": [
       "(21290, 981740)"
      ]
     },
     "execution_count": 242,
     "metadata": {},
     "output_type": "execute_result"
    }
   ],
   "source": [
    "other = df_all_grouped[~df_all_grouped['canonical_code'].str.contains('INFORMATION|RELIGION|SCHOOLS')]\n",
    "len(info_hl), len(other)"
   ]
  },
  {
   "cell_type": "code",
   "execution_count": 243,
   "metadata": {},
   "outputs": [
    {
     "data": {
      "text/plain": [
       "18540"
      ]
     },
     "execution_count": 243,
     "metadata": {},
     "output_type": "execute_result"
    }
   ],
   "source": [
    "other_hl = other[other['raw_response'].str.contains('educat|learn|inform|know|counsel')]\n",
    "len(other_hl)"
   ]
  },
  {
   "cell_type": "code",
   "execution_count": 244,
   "metadata": {},
   "outputs": [
    {
     "data": {
      "text/html": [
       "<div>\n",
       "<style scoped>\n",
       "    .dataframe tbody tr th:only-of-type {\n",
       "        vertical-align: middle;\n",
       "    }\n",
       "\n",
       "    .dataframe tbody tr th {\n",
       "        vertical-align: top;\n",
       "    }\n",
       "\n",
       "    .dataframe thead th {\n",
       "        text-align: right;\n",
       "    }\n",
       "</style>\n",
       "<table border=\"1\" class=\"dataframe\">\n",
       "  <thead>\n",
       "    <tr style=\"text-align: right;\">\n",
       "      <th></th>\n",
       "      <th>raw_response</th>\n",
       "      <th>iso_country</th>\n",
       "      <th>age</th>\n",
       "      <th>canonical_code</th>\n",
       "      <th>canonical_country</th>\n",
       "      <th>identifier</th>\n",
       "      <th>source</th>\n",
       "      <th>tokenized</th>\n",
       "      <th>lemmatized</th>\n",
       "      <th>alpha3country</th>\n",
       "    </tr>\n",
       "    <tr>\n",
       "      <th>identifier</th>\n",
       "      <th></th>\n",
       "      <th></th>\n",
       "      <th></th>\n",
       "      <th></th>\n",
       "      <th></th>\n",
       "      <th></th>\n",
       "      <th></th>\n",
       "      <th></th>\n",
       "      <th></th>\n",
       "      <th></th>\n",
       "    </tr>\n",
       "  </thead>\n",
       "  <tbody>\n",
       "    <tr>\n",
       "      <th>755918</th>\n",
       "      <td>It is open workshops for women, reproductive h...</td>\n",
       "      <td>mx</td>\n",
       "      <td>28</td>\n",
       "      <td>BETTERFACILITIES/SCHOOLS</td>\n",
       "      <td>Mexico</td>\n",
       "      <td>755918</td>\n",
       "      <td>manual</td>\n",
       "      <td>[it, be, open, workshop, for, woman, ,, reprod...</td>\n",
       "      <td>it be open workshop for woman , reproductive h...</td>\n",
       "      <td>MEX</td>\n",
       "    </tr>\n",
       "    <tr>\n",
       "      <th>943223</th>\n",
       "      <td>There should be health facilities and treatmen...</td>\n",
       "      <td>pk</td>\n",
       "      <td>60</td>\n",
       "      <td>HEALTHPROFESSIONALS/WASH/BETTERFACILITIES/SCHOOLS</td>\n",
       "      <td>Pakistan</td>\n",
       "      <td>943223</td>\n",
       "      <td>manual</td>\n",
       "      <td>[there, should, be, health, facility, and, tre...</td>\n",
       "      <td>there should be health facility and treatment ...</td>\n",
       "      <td>PAK</td>\n",
       "    </tr>\n",
       "    <tr>\n",
       "      <th>674759</th>\n",
       "      <td>Dissemination by trained personnel responsible...</td>\n",
       "      <td>mx</td>\n",
       "      <td>17</td>\n",
       "      <td>BETTERFACILITIES/ADOLESCENT/SCHOOLS</td>\n",
       "      <td>Mexico</td>\n",
       "      <td>674759</td>\n",
       "      <td>manual</td>\n",
       "      <td>[dissemination, by, trained, personnel, respon...</td>\n",
       "      <td>dissemination by trained personnel responsible...</td>\n",
       "      <td>MEX</td>\n",
       "    </tr>\n",
       "    <tr>\n",
       "      <th>755548</th>\n",
       "      <td>Improve reproductive education in primary scho...</td>\n",
       "      <td>mx</td>\n",
       "      <td>33</td>\n",
       "      <td>SCHOOLS</td>\n",
       "      <td>Mexico</td>\n",
       "      <td>755548</td>\n",
       "      <td>manual</td>\n",
       "      <td>[improve, reproductive, education, in, primary...</td>\n",
       "      <td>improve reproductive education in primary scho...</td>\n",
       "      <td>MEX</td>\n",
       "    </tr>\n",
       "    <tr>\n",
       "      <th>725230</th>\n",
       "      <td>Sexual abuse of girls in schools should be sto...</td>\n",
       "      <td>ug</td>\n",
       "      <td>19</td>\n",
       "      <td>POWER/ADOLESCENT/SCHOOLS</td>\n",
       "      <td>Uganda</td>\n",
       "      <td>725230</td>\n",
       "      <td>manual</td>\n",
       "      <td>[sexual, abuse, of, girl, in, school, should, ...</td>\n",
       "      <td>sexual abuse of girl in school should be stop ...</td>\n",
       "      <td>UGA</td>\n",
       "    </tr>\n",
       "    <tr>\n",
       "      <th>417937</th>\n",
       "      <td>Maternity education should be provided</td>\n",
       "      <td>tz</td>\n",
       "      <td>23</td>\n",
       "      <td>SCHOOLS/INFORMATION</td>\n",
       "      <td>Tanzania</td>\n",
       "      <td>417937</td>\n",
       "      <td>greg</td>\n",
       "      <td>[maternity, education, should, be, provide]</td>\n",
       "      <td>maternity education should be provide</td>\n",
       "      <td>TZA</td>\n",
       "    </tr>\n",
       "    <tr>\n",
       "      <th>872417</th>\n",
       "      <td>Educate children about health</td>\n",
       "      <td>pk</td>\n",
       "      <td>35</td>\n",
       "      <td>CHILD/SCHOOLS</td>\n",
       "      <td>Pakistan</td>\n",
       "      <td>872417</td>\n",
       "      <td>manual</td>\n",
       "      <td>[educate, child, about, health]</td>\n",
       "      <td>educate child about health</td>\n",
       "      <td>PAK</td>\n",
       "    </tr>\n",
       "    <tr>\n",
       "      <th>759962</th>\n",
       "      <td>Talks in schools About sexuality</td>\n",
       "      <td>mx</td>\n",
       "      <td>15</td>\n",
       "      <td>SCHOOLS</td>\n",
       "      <td>Mexico</td>\n",
       "      <td>759962</td>\n",
       "      <td>manual</td>\n",
       "      <td>[talk, in, school, about, sexuality]</td>\n",
       "      <td>talk in school about sexuality</td>\n",
       "      <td>MEX</td>\n",
       "    </tr>\n",
       "    <tr>\n",
       "      <th>1024891</th>\n",
       "      <td>School and maternal health center in our village</td>\n",
       "      <td>pk</td>\n",
       "      <td>42</td>\n",
       "      <td>SCHOOLS</td>\n",
       "      <td>Pakistan</td>\n",
       "      <td>1024891</td>\n",
       "      <td>manual</td>\n",
       "      <td>[school, and, maternal, health, center, in, ou...</td>\n",
       "      <td>school and maternal health center in our village</td>\n",
       "      <td>PAK</td>\n",
       "    </tr>\n",
       "    <tr>\n",
       "      <th>1043698</th>\n",
       "      <td>there should be provision of healthy food, bet...</td>\n",
       "      <td>pk</td>\n",
       "      <td>25</td>\n",
       "      <td>WASH/FOOD/SCHOOLS</td>\n",
       "      <td>Pakistan</td>\n",
       "      <td>1043698</td>\n",
       "      <td>greg</td>\n",
       "      <td>[there, should, be, provision, of, healthy, fo...</td>\n",
       "      <td>there should be provision of healthy food , go...</td>\n",
       "      <td>PAK</td>\n",
       "    </tr>\n",
       "  </tbody>\n",
       "</table>\n",
       "</div>"
      ],
      "text/plain": [
       "                                                 raw_response iso_country  \\\n",
       "identifier                                                                  \n",
       "755918      It is open workshops for women, reproductive h...          mx   \n",
       "943223      There should be health facilities and treatmen...          pk   \n",
       "674759      Dissemination by trained personnel responsible...          mx   \n",
       "755548      Improve reproductive education in primary scho...          mx   \n",
       "725230      Sexual abuse of girls in schools should be sto...          ug   \n",
       "417937                 Maternity education should be provided          tz   \n",
       "872417                          Educate children about health          pk   \n",
       "759962                       Talks in schools About sexuality          mx   \n",
       "1024891      School and maternal health center in our village          pk   \n",
       "1043698     there should be provision of healthy food, bet...          pk   \n",
       "\n",
       "            age                                     canonical_code  \\\n",
       "identifier                                                           \n",
       "755918       28                           BETTERFACILITIES/SCHOOLS   \n",
       "943223       60  HEALTHPROFESSIONALS/WASH/BETTERFACILITIES/SCHOOLS   \n",
       "674759       17                BETTERFACILITIES/ADOLESCENT/SCHOOLS   \n",
       "755548       33                                            SCHOOLS   \n",
       "725230       19                           POWER/ADOLESCENT/SCHOOLS   \n",
       "417937       23                                SCHOOLS/INFORMATION   \n",
       "872417       35                                      CHILD/SCHOOLS   \n",
       "759962       15                                            SCHOOLS   \n",
       "1024891      42                                            SCHOOLS   \n",
       "1043698      25                                  WASH/FOOD/SCHOOLS   \n",
       "\n",
       "           canonical_country  identifier  source  \\\n",
       "identifier                                         \n",
       "755918                Mexico      755918  manual   \n",
       "943223              Pakistan      943223  manual   \n",
       "674759                Mexico      674759  manual   \n",
       "755548                Mexico      755548  manual   \n",
       "725230                Uganda      725230  manual   \n",
       "417937              Tanzania      417937    greg   \n",
       "872417              Pakistan      872417  manual   \n",
       "759962                Mexico      759962  manual   \n",
       "1024891             Pakistan     1024891  manual   \n",
       "1043698             Pakistan     1043698    greg   \n",
       "\n",
       "                                                    tokenized  \\\n",
       "identifier                                                      \n",
       "755918      [it, be, open, workshop, for, woman, ,, reprod...   \n",
       "943223      [there, should, be, health, facility, and, tre...   \n",
       "674759      [dissemination, by, trained, personnel, respon...   \n",
       "755548      [improve, reproductive, education, in, primary...   \n",
       "725230      [sexual, abuse, of, girl, in, school, should, ...   \n",
       "417937            [maternity, education, should, be, provide]   \n",
       "872417                        [educate, child, about, health]   \n",
       "759962                   [talk, in, school, about, sexuality]   \n",
       "1024891     [school, and, maternal, health, center, in, ou...   \n",
       "1043698     [there, should, be, provision, of, healthy, fo...   \n",
       "\n",
       "                                                   lemmatized alpha3country  \n",
       "identifier                                                                   \n",
       "755918      it be open workshop for woman , reproductive h...           MEX  \n",
       "943223      there should be health facility and treatment ...           PAK  \n",
       "674759      dissemination by trained personnel responsible...           MEX  \n",
       "755548      improve reproductive education in primary scho...           MEX  \n",
       "725230      sexual abuse of girl in school should be stop ...           UGA  \n",
       "417937                  maternity education should be provide           TZA  \n",
       "872417                             educate child about health           PAK  \n",
       "759962                         talk in school about sexuality           MEX  \n",
       "1024891      school and maternal health center in our village           PAK  \n",
       "1043698     there should be provision of healthy food , go...           PAK  "
      ]
     },
     "execution_count": 244,
     "metadata": {},
     "output_type": "execute_result"
    }
   ],
   "source": [
    "sch = df_all_grouped[df_all_grouped['canonical_code'].str.contains('SCHOOLS')]\n",
    "sch_hl = sch[sch['lemmatized'].str.contains('sex|reproduc|motherhood|matern|health')]\n",
    "len(sch_hl)\n",
    "sch_hl.sample(10)"
   ]
  },
  {
   "cell_type": "code",
   "execution_count": 245,
   "metadata": {},
   "outputs": [
    {
     "data": {
      "text/plain": [
       "(132, 17)"
      ]
     },
     "execution_count": 245,
     "metadata": {},
     "output_type": "execute_result"
    }
   ],
   "source": [
    "rel = df_all_grouped[df_all_grouped['canonical_code'].str.contains('RELIGION')]\n",
    "rel_hl = rel[rel['raw_response'].str.contains('educat|learn|inform|know|counsel')]\n",
    "rel_hl_fixed = rel_hl[~rel_hl['lemmatized'].str.contains('islamic education|god education|spiritual counseling|madras|quran|religious|provision of education')]\n",
    "len(rel_hl), len(rel_hl_fixed)"
   ]
  },
  {
   "cell_type": "code",
   "execution_count": 246,
   "metadata": {},
   "outputs": [
    {
     "data": {
      "text/plain": [
       "40326"
      ]
     },
     "execution_count": 246,
     "metadata": {},
     "output_type": "execute_result"
    }
   ],
   "source": [
    "hl_all = pd.concat([info_hl, other_hl, rel_hl_fixed, sch_hl])\n",
    "len(hl_all)"
   ]
  },
  {
   "cell_type": "code",
   "execution_count": 251,
   "metadata": {},
   "outputs": [
    {
     "data": {
      "text/plain": [
       "38754"
      ]
     },
     "execution_count": 251,
     "metadata": {},
     "output_type": "execute_result"
    }
   ],
   "source": [
    "hl_final = hl_all[~hl_all['canonical_code'].str.contains('JOBS|FREE|NODEMAND')]\n",
    "hl_final = hl_final[~hl_final['raw_response'].str.contains('yoga')]\n",
    "len(hl_final)"
   ]
  },
  {
   "cell_type": "code",
   "execution_count": 252,
   "metadata": {},
   "outputs": [
    {
     "data": {
      "text/plain": [
       "38754"
      ]
     },
     "execution_count": 252,
     "metadata": {},
     "output_type": "execute_result"
    }
   ],
   "source": [
    "#hl_final = hl_final[~hl_final['raw_response'].str.contains('school')]\n",
    "len(hl_final)"
   ]
  },
  {
   "cell_type": "code",
   "execution_count": 249,
   "metadata": {},
   "outputs": [
    {
     "data": {
      "text/html": [
       "<div>\n",
       "<style scoped>\n",
       "    .dataframe tbody tr th:only-of-type {\n",
       "        vertical-align: middle;\n",
       "    }\n",
       "\n",
       "    .dataframe tbody tr th {\n",
       "        vertical-align: top;\n",
       "    }\n",
       "\n",
       "    .dataframe thead th {\n",
       "        text-align: right;\n",
       "    }\n",
       "</style>\n",
       "<table border=\"1\" class=\"dataframe\">\n",
       "  <thead>\n",
       "    <tr style=\"text-align: right;\">\n",
       "      <th></th>\n",
       "      <th>raw_response</th>\n",
       "      <th>iso_country</th>\n",
       "      <th>age</th>\n",
       "      <th>canonical_code</th>\n",
       "      <th>canonical_country</th>\n",
       "      <th>identifier</th>\n",
       "      <th>source</th>\n",
       "      <th>tokenized</th>\n",
       "      <th>lemmatized</th>\n",
       "      <th>alpha3country</th>\n",
       "    </tr>\n",
       "    <tr>\n",
       "      <th>identifier</th>\n",
       "      <th></th>\n",
       "      <th></th>\n",
       "      <th></th>\n",
       "      <th></th>\n",
       "      <th></th>\n",
       "      <th></th>\n",
       "      <th></th>\n",
       "      <th></th>\n",
       "      <th></th>\n",
       "      <th></th>\n",
       "    </tr>\n",
       "  </thead>\n",
       "  <tbody>\n",
       "    <tr>\n",
       "      <th>417446</th>\n",
       "      <td>Maternity education</td>\n",
       "      <td>tz</td>\n",
       "      <td>42</td>\n",
       "      <td>INFORMATION</td>\n",
       "      <td>Tanzania</td>\n",
       "      <td>417446</td>\n",
       "      <td>greg</td>\n",
       "      <td>[maternity, education]</td>\n",
       "      <td>maternity education</td>\n",
       "      <td>TZA</td>\n",
       "    </tr>\n",
       "    <tr>\n",
       "      <th>524672</th>\n",
       "      <td>Sexual and reproductive education to girls</td>\n",
       "      <td>ug</td>\n",
       "      <td>19</td>\n",
       "      <td>ADOLESCENT</td>\n",
       "      <td>Uganda</td>\n",
       "      <td>524672</td>\n",
       "      <td>manual</td>\n",
       "      <td>[sexual, and, reproductive, education, to, girls]</td>\n",
       "      <td>sexual and reproductive education to girls</td>\n",
       "      <td>UGA</td>\n",
       "    </tr>\n",
       "    <tr>\n",
       "      <th>663451</th>\n",
       "      <td>I want to be informed of my rights.</td>\n",
       "      <td>ng</td>\n",
       "      <td>23</td>\n",
       "      <td>INFORMATION</td>\n",
       "      <td>Nigeria</td>\n",
       "      <td>663451</td>\n",
       "      <td>manual</td>\n",
       "      <td>[i, want, to, be, inform, of, my, right, .]</td>\n",
       "      <td>i want to be inform of my right .</td>\n",
       "      <td>NGA</td>\n",
       "    </tr>\n",
       "    <tr>\n",
       "      <th>296544</th>\n",
       "      <td>maternity education to young generation</td>\n",
       "      <td>tz</td>\n",
       "      <td>75</td>\n",
       "      <td>ADOLESCENT</td>\n",
       "      <td>Tanzania</td>\n",
       "      <td>296544</td>\n",
       "      <td>manual</td>\n",
       "      <td>[maternity, education, to, young, generation]</td>\n",
       "      <td>maternity education to young generation</td>\n",
       "      <td>TZA</td>\n",
       "    </tr>\n",
       "    <tr>\n",
       "      <th>296167</th>\n",
       "      <td>knowledge about good maternal health care and ...</td>\n",
       "      <td>tz</td>\n",
       "      <td>24</td>\n",
       "      <td>INFORMATION</td>\n",
       "      <td>Tanzania</td>\n",
       "      <td>296167</td>\n",
       "      <td>manual</td>\n",
       "      <td>[knowledge, about, good, maternal, health, car...</td>\n",
       "      <td>knowledge about good maternal health care and ...</td>\n",
       "      <td>TZA</td>\n",
       "    </tr>\n",
       "    <tr>\n",
       "      <th>307378</th>\n",
       "      <td>education on family palnning</td>\n",
       "      <td>ke</td>\n",
       "      <td>28</td>\n",
       "      <td>FAMILYPLANNING</td>\n",
       "      <td>Kenya</td>\n",
       "      <td>307378</td>\n",
       "      <td>tw_sklearn</td>\n",
       "      <td>[education, on, family, palnning]</td>\n",
       "      <td>education on family palnning</td>\n",
       "      <td>KEN</td>\n",
       "    </tr>\n",
       "    <tr>\n",
       "      <th>620665</th>\n",
       "      <td>Birth methods education</td>\n",
       "      <td>tz</td>\n",
       "      <td>24</td>\n",
       "      <td>FAMILYPLANNING</td>\n",
       "      <td>Tanzania</td>\n",
       "      <td>620665</td>\n",
       "      <td>manual</td>\n",
       "      <td>[birth, method, education]</td>\n",
       "      <td>birth method education</td>\n",
       "      <td>TZA</td>\n",
       "    </tr>\n",
       "    <tr>\n",
       "      <th>396886</th>\n",
       "      <td>Outreaches to the villages</td>\n",
       "      <td>ug</td>\n",
       "      <td>33</td>\n",
       "      <td>INFORMATION</td>\n",
       "      <td>Uganda</td>\n",
       "      <td>396886</td>\n",
       "      <td>manual</td>\n",
       "      <td>[outreach, to, the, village]</td>\n",
       "      <td>outreach to the village</td>\n",
       "      <td>UGA</td>\n",
       "    </tr>\n",
       "    <tr>\n",
       "      <th>457217</th>\n",
       "      <td>I want sex education at our rural areas</td>\n",
       "      <td>ng</td>\n",
       "      <td>23</td>\n",
       "      <td>ADOLESCENT</td>\n",
       "      <td>Nigeria</td>\n",
       "      <td>457217</td>\n",
       "      <td>manual</td>\n",
       "      <td>[i, want, sex, education, at, our, rural, area]</td>\n",
       "      <td>i want sex education at our rural area</td>\n",
       "      <td>NGA</td>\n",
       "    </tr>\n",
       "    <tr>\n",
       "      <th>14205</th>\n",
       "      <td>There should be committee for health education</td>\n",
       "      <td>pk</td>\n",
       "      <td>33</td>\n",
       "      <td>POWER</td>\n",
       "      <td>Pakistan</td>\n",
       "      <td>14205</td>\n",
       "      <td>greg</td>\n",
       "      <td>[there, should, be, committee, for, health, ed...</td>\n",
       "      <td>there should be committee for health education</td>\n",
       "      <td>PAK</td>\n",
       "    </tr>\n",
       "  </tbody>\n",
       "</table>\n",
       "</div>"
      ],
      "text/plain": [
       "                                                 raw_response iso_country  \\\n",
       "identifier                                                                  \n",
       "417446                                    Maternity education          tz   \n",
       "524672             Sexual and reproductive education to girls          ug   \n",
       "663451                    I want to be informed of my rights.          ng   \n",
       "296544                maternity education to young generation          tz   \n",
       "296167      knowledge about good maternal health care and ...          tz   \n",
       "307378                           education on family palnning          ke   \n",
       "620665                                Birth methods education          tz   \n",
       "396886                             Outreaches to the villages          ug   \n",
       "457217                I want sex education at our rural areas          ng   \n",
       "14205          There should be committee for health education          pk   \n",
       "\n",
       "            age  canonical_code canonical_country  identifier      source  \\\n",
       "identifier                                                                  \n",
       "417446       42     INFORMATION          Tanzania      417446        greg   \n",
       "524672       19      ADOLESCENT            Uganda      524672      manual   \n",
       "663451       23     INFORMATION           Nigeria      663451      manual   \n",
       "296544       75      ADOLESCENT          Tanzania      296544      manual   \n",
       "296167       24     INFORMATION          Tanzania      296167      manual   \n",
       "307378       28  FAMILYPLANNING             Kenya      307378  tw_sklearn   \n",
       "620665       24  FAMILYPLANNING          Tanzania      620665      manual   \n",
       "396886       33     INFORMATION            Uganda      396886      manual   \n",
       "457217       23      ADOLESCENT           Nigeria      457217      manual   \n",
       "14205        33           POWER          Pakistan       14205        greg   \n",
       "\n",
       "                                                    tokenized  \\\n",
       "identifier                                                      \n",
       "417446                                 [maternity, education]   \n",
       "524672      [sexual, and, reproductive, education, to, girls]   \n",
       "663451            [i, want, to, be, inform, of, my, right, .]   \n",
       "296544          [maternity, education, to, young, generation]   \n",
       "296167      [knowledge, about, good, maternal, health, car...   \n",
       "307378                      [education, on, family, palnning]   \n",
       "620665                             [birth, method, education]   \n",
       "396886                           [outreach, to, the, village]   \n",
       "457217        [i, want, sex, education, at, our, rural, area]   \n",
       "14205       [there, should, be, committee, for, health, ed...   \n",
       "\n",
       "                                                   lemmatized alpha3country  \n",
       "identifier                                                                   \n",
       "417446                                    maternity education           TZA  \n",
       "524672             sexual and reproductive education to girls           UGA  \n",
       "663451                      i want to be inform of my right .           NGA  \n",
       "296544                maternity education to young generation           TZA  \n",
       "296167      knowledge about good maternal health care and ...           TZA  \n",
       "307378                           education on family palnning           KEN  \n",
       "620665                                 birth method education           TZA  \n",
       "396886                                outreach to the village           UGA  \n",
       "457217                 i want sex education at our rural area           NGA  \n",
       "14205          there should be committee for health education           PAK  "
      ]
     },
     "execution_count": 249,
     "metadata": {},
     "output_type": "execute_result"
    }
   ],
   "source": [
    "hl_final.sample(10)"
   ]
  },
  {
   "cell_type": "code",
   "execution_count": null,
   "metadata": {},
   "outputs": [],
   "source": [
    "import pandas as pd\n",
    "pd.set_option('display.max_rows', 2859)\n",
    "pd.set_option('display.max_colwidth', None)\n",
    "df_all_grouped.groupby([\"canonical_code\"])[\"raw_response\"].count().reset_index()"
   ]
  },
  {
   "cell_type": "code",
   "execution_count": 253,
   "metadata": {},
   "outputs": [],
   "source": [
    "compression_opts = dict(method='zip',\n",
    "                        archive_name=\"hl_final_data_zip.csv\")  \n",
    "hl_final.to_csv(\"C:/Users/catie/Documents/MFM/Updated Codes Jan22/data/hl_data_final.zip\", index=False,\n",
    "          compression=compression_opts) "
   ]
  },
  {
   "cell_type": "code",
   "execution_count": 254,
   "metadata": {},
   "outputs": [],
   "source": [
    "hl_final.to_pickle(\"C:/Users/catie/Documents/MFM/Updated Codes Jan22/data/hl_data_final.pkl\", protocol=3)"
   ]
  },
  {
   "cell_type": "code",
   "execution_count": null,
   "metadata": {},
   "outputs": [],
   "source": [
    "#hl_final.sample(1000).to_pickle(\"data/hl_data_small.pkl\", protocol=3)"
   ]
  },
  {
   "cell_type": "code",
   "execution_count": null,
   "metadata": {},
   "outputs": [],
   "source": [
    "#hl_final.sample(10000).to_pickle(\"data/hl_data_10k.pkl\", protocol=3)"
   ]
  },
  {
   "cell_type": "code",
   "execution_count": null,
   "metadata": {},
   "outputs": [],
   "source": [
    "#hl_final.sample(100000).to_pickle(\"hl_data_100k.pkl\", protocol=3)"
   ]
  }
 ],
 "metadata": {
  "kernelspec": {
   "display_name": "Python 3",
   "language": "python",
   "name": "python3"
  },
  "language_info": {
   "codemirror_mode": {
    "name": "ipython",
    "version": 3
   },
   "file_extension": ".py",
   "mimetype": "text/x-python",
   "name": "python",
   "nbconvert_exporter": "python",
   "pygments_lexer": "ipython3",
   "version": "3.8.3"
  }
 },
 "nbformat": 4,
 "nbformat_minor": 4
}
